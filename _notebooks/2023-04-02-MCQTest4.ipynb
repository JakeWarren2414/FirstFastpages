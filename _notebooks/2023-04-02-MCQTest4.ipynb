{
 "cells": [
  {
   "attachments": {},
   "cell_type": "markdown",
   "metadata": {},
   "source": [
    "# MCQ Test 4\n",
    "- title: MCQ Test 4\n",
    "- toc: true\n",
    "- layout: base\n",
    "- badges: true\n",
    "- categories: [. Practice]\n",
    "- description: This is my blog for the MCQ Test 4"
   ]
  },
  {
   "attachments": {},
   "cell_type": "markdown",
   "metadata": {},
   "source": [
    "## Questions Missed \n",
    "\n",
    "1. I got Question 16 wrong. This si because I put B and the correct answer was c. This is becasue it is asking what the actual data would be useful for. C said tha it would be for topics and I put the time. I thought the data was what was stated. It is actually the other data because it shows what is in the post. \n",
    "\n",
    "![Q16](../images/4Q16.png)\n",
    "\n",
    "2. I got question 23 wrong. I put D and the correct answer was C. The data set of a schools high school grades is not a big database. Finding the top ten students doesn't highlight a specific pattern.\n",
    "\n",
    "![Q16](../images/4Q23.png)\n",
    "\n",
    "3. I got question 44 wrong becasue I put B when the correct answer was C. The student knows what the procedure does but not how so this is procederal abstraction because it shows how the student knows how to condense code and run a prosedure. \n",
    "\n",
    "![Q16](../images/4Q44.png) \n",
    "\n",
    "4. I got question 47 wrong because I put A instead of B. I thought A was right because I was thinking about how 10x10 is 10000 and binary is diferent. \n",
    "\n",
    "![Q16](../images/4Q47.png)\n",
    "\n",
    "5. I got Question 49 wrong because I didn't understand the code very well. I put B Instead of A. I thought that I didn't have to substact 1 from the index but you do subtract 1. \n",
    "\n",
    "![Q16](../images/4Q49.png)"
   ]
  }
 ],
 "metadata": {
  "language_info": {
   "name": "python"
  },
  "orig_nbformat": 4
 },
 "nbformat": 4,
 "nbformat_minor": 2
}
