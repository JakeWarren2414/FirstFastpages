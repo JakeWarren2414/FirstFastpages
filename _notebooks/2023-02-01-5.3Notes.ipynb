{
 "cells": [
  {
   "cell_type": "markdown",
   "metadata": {},
   "source": [
    "# 5.3-5.4 Notes\n",
    "- title: 5.3 Notes\n",
    "- toc: true\n",
    "- badges: true\n",
    "- categories: [. Practice]\n",
    "- description: These are my notes for 5.3 "
   ]
  },
  {
   "cell_type": "markdown",
   "metadata": {},
   "source": [
    "# Notes\n",
    "### What age groups use \"Facebook” vs “… TikTok”? What does the data say? Is there purposeful exclusion in these platforms? Is it harmful? Should it be corrected? Is it good business?\n",
    "- Use percentages for tiktok: Ages 10-19 – 32.5%, Ages 20-29 – 29.5%, Ages 30-39 – 16.4%, Ages 40-49 – 13.9%, 50+ – 7.1%\n",
    "- Use percentages for facebook: Ages 13-17 - 3.9%, Ages 18-24 - 18%, Ages 25-34 - 23.7%, Ages 35-44 - 18.1%, Ages 45-54 - 13.8%, Ages 55-64 - 11.2%, Ages 65+ - 11.2%.\n",
    "- Accourding to this data, Tik Tok has a much younger demographic and facebook has a much older. This is partly due to multipple reasons. Firslty Tik-Toks content is more directed towards children and Facebook is directed towards adults. Also, Facebook is much older so the people on it are older. I don't think this is harmful because it allows everyone to go to the platform they will enjoy the most. However, it may cause a divide in age demographics and their culture. We may not be able to relate to our parents as much. It is not neccesary to be corrected. It is good business because \n",
    "\n",
    "### Why do virtual assistants have female voices? Amazon, Alexa Google, Apple Siri. Was this purposeful? Is it harmful? Should it be corrected? Is it good business?\n",
    "- Female voices are much softer and soothing. This is good business because the user may feel safer and less stressed with this voice. This doesn't really have to be corrected because it is not harmful. People are able to turn to a male voice. Some would argue however that listening to a women as a virtual assistant woul change view points to seem them as such. \n",
    "### Talk about an algorithm that influences your decisions, think about these companies\n",
    "- A \"for you page\" or a \"feed page\" could influence our decisions. It collects data on which content you like to watch and recomends more of that content. It also gives you adds similar to the content. We will be more inclined to buy these items oppose to random ads. However, people may not be able to learn about other topics and it could divide groups. If you say you are a conservative, you will not see a liberal point of view and it could create a divide. Bias would be made. "
   ]
  },
  {
   "cell_type": "markdown",
   "metadata": {},
   "source": [
    "# Pair Hacks\n",
    "### Does the owner of the computer think this was intentional? If yes or no, justify you conclusion.\n",
    "- The owner does not think this is intentional. He is very light hearted about it and jokes about while still bringing attension to it. He says the computer is racist in a sarcastic tone. He knows that the technology was just not developed correctly. \n",
    "### How do you think this happened?\n",
    "- I think this happened because the facial recognition was only tested on white people. So when the computer tried to identify a black person, it couldn't because it was not developed as such. \n",
    "### Is this harmful? Was it intended to be harmful or exclude? Should it be corrected?\n",
    "- Yes this is harmful because it means a whole entire minority is not able to use a feature of this computer. It may hurt the business because blacks won't want to buy a \"racist computer.\" This was not intentional rather a mistake. This has to be corrected to allow these people to use the technology. \n",
    "### What would you or should you do to produce a better outcome?\n",
    "- To produce a better a better product I would make sure to test the product on on skin tones and then fix it for the blacks. I would also make sure that lighting and position of the face were a contorl group in the testing. "
   ]
  }
 ],
 "metadata": {
  "language_info": {
   "name": "python"
  },
  "orig_nbformat": 4
 },
 "nbformat": 4,
 "nbformat_minor": 2
}
