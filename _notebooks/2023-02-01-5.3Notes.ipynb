{
 "cells": [
  {
   "cell_type": "markdown",
   "metadata": {},
   "source": [
    "# 5.3-5.4 Notes\n",
    "- title: 5.3 Notes\n",
    "- toc: true\n",
    "- badges: true\n",
    "- layout: base\n",
    "- categories: [. Practice]\n",
    "- description: These are my notes for 5.3 "
   ]
  },
  {
   "cell_type": "markdown",
   "metadata": {},
   "source": [
    "# Notes 5.3\n",
    "### What age groups use \"Facebook” vs “… TikTok”? What does the data say? Is there purposeful exclusion in these platforms? Is it harmful? Should it be corrected? Is it good business?\n",
    "- Use percentages for tiktok: Ages 10-19 – 32.5%, Ages 20-29 – 29.5%, Ages 30-39 – 16.4%, Ages 40-49 – 13.9%, 50+ – 7.1%\n",
    "- Use percentages for facebook: Ages 13-17 - 3.9%, Ages 18-24 - 18%, Ages 25-34 - 23.7%, Ages 35-44 - 18.1%, Ages 45-54 - 13.8%, Ages 55-64 - 11.2%, Ages 65+ - 11.2%.\n",
    "- Accourding to this data, Tik Tok has a much younger demographic and facebook has a much older. This is partly due to multipple reasons. Firslty Tik-Toks content is more directed towards children and Facebook is directed towards adults. Also, Facebook is much older so the people on it are older. I don't think this is harmful because it allows everyone to go to the platform they will enjoy the most. However, it may cause a divide in age demographics and their culture. We may not be able to relate to our parents as much. It is not neccesary to be corrected. It is good business because \n",
    "\n",
    "### Why do virtual assistants have female voices? Amazon, Alexa Google, Apple Siri. Was this purposeful? Is it harmful? Should it be corrected? Is it good business?\n",
    "- Female voices are much softer and soothing. This is good business because the user may feel safer and less stressed with this voice. This doesn't really have to be corrected because it is not harmful. People are able to turn to a male voice. Some would argue however that listening to a women as a virtual assistant woul change view points to seem them as such. \n",
    "### Talk about an algorithm that influences your decisions, think about these companies\n",
    "- A \"for you page\" or a \"feed page\" could influence our decisions. It collects data on which content you like to watch and recomends more of that content. It also gives you adds similar to the content. We will be more inclined to buy these items oppose to random ads. However, people may not be able to learn about other topics and it could divide groups. If you say you are a conservative, you will not see a liberal point of view and it could create a divide. Bias would be made. "
   ]
  },
  {
   "cell_type": "markdown",
   "metadata": {},
   "source": [
    "# Pair Hacks 5.3\n",
    "### Does the owner of the computer think this was intentional? If yes or no, justify you conclusion.\n",
    "- The owner does not think this is intentional. He is very light hearted about it and jokes about while still bringing attension to it. He says the computer is racist in a sarcastic tone. He knows that the technology was just not developed correctly. \n",
    "### How do you think this happened?\n",
    "- I think this happened because the facial recognition was only tested on white people. So when the computer tried to identify a black person, it couldn't because it was not developed as such. \n",
    "### Is this harmful? Was it intended to be harmful or exclude? Should it be corrected?\n",
    "- Yes this is harmful because it means a whole entire minority is not able to use a feature of this computer. It may hurt the business because blacks won't want to buy a \"racist computer.\" This was not intentional rather a mistake. This has to be corrected to allow these people to use the technology. \n",
    "### What would you or should you do to produce a better outcome?\n",
    "- To produce a better a better product I would make sure to test the product on on skin tones and then fix it for the blacks. I would also make sure that lighting and position of the face were a contorl group in the testing. \n",
    "\n",
    "## Summary \n",
    "- Overall I learned a lot from this unit. Firstly I learned that bias is a very prominate characteristic in all of us, intentional or not. Some people have racial bias against minorities and other have bias for things such as technology. Both of these are harmful but one is obviously more harmful than the other. However, a technology bias can still hurt. It could lead to irrational decisions that harms the person just because one of them inolves technology. This same theme is evident amongst many topics. As a society we have to learn to eliminate bias or at least reduce it. It could help with production, decisions making, etc. "
   ]
  },
  {
   "cell_type": "markdown",
   "metadata": {},
   "source": [
    "# 5.4 Crowdsourcing Hacks\n",
    "### CompSci has 150 ish principles students. Describe a crowdsource idea and how you might initiate it in our environment?\n",
    "- I could initiate a crowdsource idea in ou environment by maybe doing activities where one person from each group is put into a new group with prople of other groups and they all talk about improving each other projects. Every person has to give everyone else at least one idea. \n",
    "### What about Del Norte crowdsourcing? Could your project be better with crowdsourcing?\n",
    "- A crowdsource idea in our enviornment could actually be used with my project. My project is a fitness project. There are two other groups just in my class with fitness websites and probaly more in other classes. If we are able to reach out and share our ideas with each other, all of our projects will benefit. I learned from \"Teak Baddies\" project and a comment from Mr. Mortenson that we can add a goal system to my project. \n",
    "\n",
    "### What kind of data could you capture at N@tM to make evening interesting? Perhaps use this data to impress Teachers during finals week.\n",
    "- Some data I could collect during the N@tM is how much everybody likes our features. We could give them a survay to fill out to select what feature they like and what feature needs work or if they would even use the feature. We could also ask them new features they would like to see. With this we can optimize our website to fit the public demand. "
   ]
  }
 ],
 "metadata": {
  "language_info": {
   "name": "python"
  },
  "orig_nbformat": 4
 },
 "nbformat": 4,
 "nbformat_minor": 2
}
