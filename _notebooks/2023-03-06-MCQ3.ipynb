{
 "cells": [
  {
   "cell_type": "markdown",
   "metadata": {},
   "source": [
    "# MCQ 3 Blog\n",
    "- title: MCQ 3 Blog\n",
    "- toc: true\n",
    "- layout: base\n",
    "- badges: true\n",
    "- categories: [. Practice]\n",
    "- description: This is my blog for the MCQ 3"
   ]
  },
  {
   "cell_type": "markdown",
   "metadata": {},
   "source": [
    "## Score\n",
    "\n",
    "![MCQ3](../images/MCQ3.png)"
   ]
  },
  {
   "cell_type": "markdown",
   "metadata": {},
   "source": [
    "## Questions I got wrong\n",
    "\n",
    "10. I got question 10 wrong: Personal cybersecurity risks. It asks which of these situations is the greatest risk to cybersecurity. I read the question as LEAST greatest risk to cybersecurity causing me to pick B. This answer was paying a bill to a secure electronic payment system. The correct answer is C which is emailing a credit card number to a hotel. This is not secure at all becuase the people could use your information. \n",
    "\n",
    "![Q10](../images/Q10.png)\n",
    "\n",
    "29. I got question 29 wrong. This question was asking about a code segment and if the code segment displays a certain text. I did not understand this question very well. I put answer C which said true false true. I put this because the variables a, b, and c were defined as such. I did not understand what the code after that did so I thought it was meant just to throw me off. The correct answer is false, false, false. This is because the two code statments changed variables a and c. The a was changed to false because b was true thus not b is false. The statement then is false. The next one defines c as false because a is now defined as false making c false. If I got the correct answer on the fourth line of code I would have got it correct. \n",
    "\n",
    "![Q29](../images/Q29.png)\n",
    "\n",
    "50. I got question 50 wrong. It was asking about the run time of four different algoritms. I put algorithms A and C when the correct answer was A and D. I put C because it increases by multipling by n. This seemed efficiant to me because there was one calculation. however the correct answer was d because it squares n and this shortens it by using polynomial efficiantcy. \n",
    "\n",
    "![Q50](../images/Q50.png)\n"
   ]
  },
  {
   "cell_type": "markdown",
   "metadata": {},
   "source": [
    "# Blog\n",
    "\n",
    "- Over all I think I did pretty well but I can work on reading the questions more closer. I try to do the questions fast to simulate what would happen on the AP test. I don't have infinate time on each question so I can't take much time. However, when I do this I may rush a question\n",
    "- I can also work onapplying code and algorithms to certain situations. "
   ]
  }
 ],
 "metadata": {
  "kernelspec": {
   "display_name": "base",
   "language": "python",
   "name": "python3"
  },
  "language_info": {
   "name": "python",
   "version": "3.9.12 (main, Apr  5 2022, 01:53:17) \n[Clang 12.0.0 ]"
  },
  "orig_nbformat": 4,
  "vscode": {
   "interpreter": {
    "hash": "40d3a090f54c6569ab1632332b64b2c03c39dcf918b08424e98f38b5ae0af88f"
   }
  }
 },
 "nbformat": 4,
 "nbformat_minor": 2
}
