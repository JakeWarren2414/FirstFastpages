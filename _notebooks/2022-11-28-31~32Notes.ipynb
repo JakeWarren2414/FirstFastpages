{
 "cells": [
  {
   "cell_type": "markdown",
   "metadata": {},
   "source": [
    "# 3.1/3.2\n",
    "\n",
    "- title: 3.1-3.2\n",
    "- toc: true\n",
    "- badges: true\n",
    "- categories: [.tri 2 learning]"
   ]
  },
  {
   "cell_type": "markdown",
   "metadata": {},
   "source": [
    "\n",
    "\n",
    "# 3.1-3.2\n",
    "\n",
    "## Notes\n",
    "\n",
    "- A varaible is a abstraction made inside a program that holds a value\n",
    "- Make sure varaibles are correct\n",
    "- Boolean are true or false statements\n",
    "- Integers are numbers\n",
    "- Lists and dictionary are letters\n",
    "- A string can represent someones phone number\n",
    "- A varible is updated by making the varaible equal to something else in a new line\n",
    "- Sudo code is where syntax doesn't matter\n",
    "- Python the assignemnt oporator is =\n",
    "- Quotes means it is a string\n",
    "- Square brackets are a list\n",
    "- Javascript in this line of code we are trying to assign the buttons a variable\n",
    "- Strings are a series of characters \n",
    "- Lists are sequences of elements where each element in the list is a variable. An order to them\n",
    "- Using negative numbers you and start the list from the end\n",
    "- Data abstraction simplies code\n",
    "- Lists means that the user doesn't need to know the data\n",
    "- Printing a list of variables can be used with individual variables and the print() code. This is inefficient. You can use a single variable such as score = []. Then print it with print()"
   ]
  },
  {
   "cell_type": "markdown",
   "metadata": {},
   "source": [
    "# Hacks\n",
    "## Hack 1\n",
    "- An assignment operator is the transition character of a variable. = for python for example\n",
    "- Collegeboard pseudocode uses an arrow <--- to assign values to variables\n",
    "- If a variable, x, is initially given a value of 15 and ;ater on changed to 22 it would display 22 because it was changed from 15. "
   ]
  },
  {
   "cell_type": "markdown",
   "metadata": {},
   "source": [
    "## Hack 2\n",
    "- A list is a series of varaibles that are listed then printed in one\n",
    "- An element is the characters isside a string\n",
    "- An easy way to reference elementing in a list or string is to use a print command but also list the number of that varable in the list. If it is the thrid item in the list you can put 2 or negative to if theres four items in the list\n",
    "- An example of a string is name = \"jake\"\n"
   ]
  },
  {
   "cell_type": "code",
   "execution_count": 3,
   "metadata": {},
   "outputs": [
    {
     "name": "stdout",
     "output_type": "stream",
     "text": [
      "Jake ['burger', 'steak', 'burrito']\n"
     ]
    }
   ],
   "source": [
    "name = \"Jake\"\n",
    "favfood = [\"burger\", \"steak\", \"burrito\"]\n",
    "print(name, favfood)"
   ]
  },
  {
   "cell_type": "code",
   "execution_count": 4,
   "metadata": {},
   "outputs": [
    {
     "name": "stdout",
     "output_type": "stream",
     "text": [
      "burrito\n",
      "burrito\n"
     ]
    }
   ],
   "source": [
    "food = [\"burger\", \"steak\", \"burrito\"]\n",
    "print(food[2])\n",
    "print(food[-1])"
   ]
  },
  {
   "cell_type": "markdown",
   "metadata": {},
   "source": [
    "## Hack 3\n"
   ]
  },
  {
   "cell_type": "code",
   "execution_count": null,
   "metadata": {},
   "outputs": [],
   "source": [
    "num1=input(\"Input a number. \")\n",
    "num2=input(\"Input a number. \")\n",
    "num3=input(\"Input a number. \")\n",
    "add=input(\"How much would you like to add? \")\n",
    "\n",
    "# Add code in the space below\n",
    "\n",
    "numlist = [int(num1), int(num2), int(num3)]\n",
    "\n",
    "# The following is the code that adds the inputted addend to the other numbers. It is hidden from the user.\n",
    "\n",
    "for i in numlist:\n",
    "    numlist[i -1] += int(add)\n",
    "\n",
    "print(numlist)"
   ]
  },
  {
   "cell_type": "markdown",
   "metadata": {},
   "source": [
    "## Hack 4"
   ]
  },
  {
   "cell_type": "markdown",
   "metadata": {},
   "source": [
    "### Python Quiz\n",
    "- Complexity\n",
    "- Abstraction\n",
    "- []"
   ]
  },
  {
   "cell_type": "code",
   "execution_count": 15,
   "metadata": {},
   "outputs": [
    {
     "name": "stdout",
     "output_type": "stream",
     "text": [
      "['pizza', 'hot dog', 'sushi', 'strawberry', 'sandwich']\n"
     ]
    }
   ],
   "source": [
    "food = [\"pizza\", \"hot dog\", \"sushi\", \"strawberry\", \"sandwich\"]\n",
    "print(food)"
   ]
  },
  {
   "cell_type": "markdown",
   "metadata": {},
   "source": [
    "- Lists are better for a program than writing out the code because it makes the code more simple. It allows other programers to understand the code better and make edits easier. "
   ]
  },
  {
   "cell_type": "code",
   "execution_count": 16,
   "metadata": {},
   "outputs": [
    {
     "name": "stdout",
     "output_type": "stream",
     "text": [
      "Bengals Saints Texans Cowboys\n"
     ]
    }
   ],
   "source": [
    "team1 = \"Bengals\"\n",
    "team2 = \"Saints\"\n",
    "team3 = \"Texans\"\n",
    "team4 = \"Cowboys\"\n",
    "print(team1, team2, team3, team4)"
   ]
  },
  {
   "cell_type": "code",
   "execution_count": 20,
   "metadata": {},
   "outputs": [
    {
     "name": "stdout",
     "output_type": "stream",
     "text": [
      "['Bengals', 'Saint', 'Texans', 'Cowboys']\n"
     ]
    }
   ],
   "source": [
    "team = [\"Bengals\", \"Saint\", \"Texans\", \"Cowboys\"]\n",
    "print(team)"
   ]
  }
 ],
 "metadata": {
  "kernelspec": {
   "display_name": "Python 3.9.12 ('base')",
   "language": "python",
   "name": "python3"
  },
  "language_info": {
   "codemirror_mode": {
    "name": "ipython",
    "version": 3
   },
   "file_extension": ".py",
   "mimetype": "text/x-python",
   "name": "python",
   "nbconvert_exporter": "python",
   "pygments_lexer": "ipython3",
   "version": "3.9.12"
  },
  "orig_nbformat": 4,
  "vscode": {
   "interpreter": {
    "hash": "40d3a090f54c6569ab1632332b64b2c03c39dcf918b08424e98f38b5ae0af88f"
   }
  }
 },
 "nbformat": 4,
 "nbformat_minor": 2
}
