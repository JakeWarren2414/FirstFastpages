{
 "cells": [
  {
   "cell_type": "markdown",
   "metadata": {},
   "source": [
    "# Football Quiz\n",
    "- Title: Football Quiz\n",
    "- toc: true\n",
    "- Badges: true\n",
    "- comments: True\n",
    "- author: Jake Warren\n",
    "- Categories: [Football]"
   ]
  },
  {
   "cell_type": "code",
   "execution_count": 1,
   "metadata": {},
   "outputs": [
    {
     "name": "stdout",
     "output_type": "stream",
     "text": [
      "Question: What position throws the ball?\n",
      "Answer: Quaterback\n"
     ]
    }
   ],
   "source": [
    "def question_and_answer(prompt):\n",
    "    print(\"Question: \" + prompt)\n",
    "    msg = input(\"Quaterback\")\n",
    "    print(\"Answer: \" + msg)\n",
    "\n",
    "question_and_answer(\"What position throws the ball?\") "
   ]
  },
  {
   "cell_type": "code",
   "execution_count": 3,
   "metadata": {},
   "outputs": [
    {
     "name": "stdout",
     "output_type": "stream",
     "text": [
      "Question: What NFL player has the most Superbowl rings?\n",
      "Answer: Tom Brady\n"
     ]
    }
   ],
   "source": [
    "def question_and_answer(prompt):\n",
    "    print(\"Question: \" + prompt)\n",
    "    msg = input(\"Tom Brady\")\n",
    "    print(\"Answer: \" + msg)\n",
    "\n",
    "question_and_answer(\"What NFL player has the most Superbowl rings?\")"
   ]
  },
  {
   "cell_type": "code",
   "execution_count": 5,
   "metadata": {},
   "outputs": [
    {
     "name": "stdout",
     "output_type": "stream",
     "text": [
      "Question: How many players are on a football field at once?\n",
      "Answer: 11\n"
     ]
    }
   ],
   "source": [
    "def question_and_answer(prompt):\n",
    "    print(\"Question: \" + prompt)\n",
    "    msg = input(\"11\")\n",
    "    print(\"Answer: \" + msg)\n",
    "\n",
    "question_and_answer(\"How many players are on a football field at once?\")"
   ]
  },
  {
   "cell_type": "code",
   "execution_count": 6,
   "metadata": {},
   "outputs": [
    {
     "name": "stdout",
     "output_type": "stream",
     "text": [
      "Question: How many games are in the NFL regular season?\n",
      "Answer: 17\n"
     ]
    }
   ],
   "source": [
    "def question_and_answer(prompt):\n",
    "    print(\"Question: \" + prompt)\n",
    "    msg = input(\"17\")\n",
    "    print(\"Answer: \" + msg)\n",
    "\n",
    "question_and_answer(\"How many games are in the NFL regular season?\")"
   ]
  },
  {
   "cell_type": "code",
   "execution_count": 4,
   "metadata": {},
   "outputs": [
    {
     "name": "stdout",
     "output_type": "stream",
     "text": [
      "Question: What team does Joe Burrow play for?\n",
      "Answer: Bengals\n"
     ]
    }
   ],
   "source": [
    "def question_and_answer(prompt):\n",
    "    print(\"Question: \" + prompt)\n",
    "    msg = input(\"Bengals\")\n",
    "    print(\"Answer: \" + msg)\n",
    "\n",
    "question_and_answer(\"What team does Joe Burrow play for?\")"
   ]
  }
 ],
 "metadata": {
  "kernelspec": {
   "display_name": "Python 3.10.6 64-bit",
   "language": "python",
   "name": "python3"
  },
  "language_info": {
   "codemirror_mode": {
    "name": "ipython",
    "version": 3
   },
   "file_extension": ".py",
   "mimetype": "text/x-python",
   "name": "python",
   "nbconvert_exporter": "python",
   "pygments_lexer": "ipython3",
   "version": "3.10.6"
  },
  "orig_nbformat": 4,
  "vscode": {
   "interpreter": {
    "hash": "aee8b7b246df8f9039afb4144a1f6fd8d2ca17a180786b69acc140d282b71a49"
   }
  }
 },
 "nbformat": 4,
 "nbformat_minor": 2
}
