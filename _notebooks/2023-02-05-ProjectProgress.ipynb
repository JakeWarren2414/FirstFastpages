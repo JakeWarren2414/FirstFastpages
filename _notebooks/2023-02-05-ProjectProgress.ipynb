{
 "cells": [
  {
   "cell_type": "markdown",
   "metadata": {},
   "source": [
    "# Project Progress\n",
    "- title: Project Progress\n",
    "- toc: true\n",
    "- badges: true\n",
    "- categories: [. Practice]\n",
    "- description: This is the progress I have made on my project thus far and what I still need to work on"
   ]
  },
  {
   "cell_type": "markdown",
   "metadata": {},
   "source": [
    "# Progress\n",
    "- I started off my project by working on the \"Workouts\" page. I thought this was going to be the feauture I would develop. Then I realized it really isn't that useful of a page. It just gives information about workouts. It's not really a \"feature.\" I worked on this for the start of the project and I have completed this pge but I do not plan on continuing this page because I plan on working on the Sports Quiz. I had already thought of this idea but the \"CarHub\" presentation really inspired me to continue working on it because it fit CollegeBoards criteria much more. \n",
    "- I finished all of the questions needed to ask for this feature. I also was able to make buttons that have multiple functions. \n",
    "- There is a \"yes\" and \"no button\" for each question. When a button is pressed it not only removes the current question on the screen but also shows the next question. This process is repeated until the quiz is done and the results are shown.\n",
    "- I also figured out how to make these buttons remove sports from a list accourding to the option. When one of the buttons is clicked a variable changes to true or false for a question. Each question has a different id. So when this id is true or false it will cause some sports to be removed from the list. However, this only works when the \"no\" button is clicked. I have to make it work for the \"yes\" button. \n",
    "- As the ScurmMaster I also worked on the ScrumBoard\n",
    "- I also worked on the index page and making it look a bit nicer.\n",
    "# Future\n",
    "\n",
    "## Next Week Plans\n",
    "- My plan for next week is to get the \"yes\" button to remove from the list. I believe this is a problem with the variable being true. For some reason the false statement works but the true doesn't so I will figure out this bug\n",
    "- Next week I also plan to edit the results page. Right now all it does it display this list and othing else. I want this to change by having the list show a row of a table that has the sport, a descrption of the sport, and a picture of this sport. I plan to do this by giving each row an id and when the variables in the list it is still there I will use a conditional statement to make the row appear. \n",
    "- The final feature I want to develop is more of a backend feature. I want to be able to have a button for each sport that adds it to the bio. You can add muliple sports but also remove sports. This will be with a database. This bio will have the BMI, diet, workout routine, etc. All of our featues will be put together by the login feature. "
   ]
  }
 ],
 "metadata": {
  "language_info": {
   "name": "python"
  },
  "orig_nbformat": 4
 },
 "nbformat": 4,
 "nbformat_minor": 2
}
