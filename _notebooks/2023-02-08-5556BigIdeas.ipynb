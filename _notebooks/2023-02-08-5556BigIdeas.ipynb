{
 "cells": [
  {
   "cell_type": "markdown",
   "metadata": {},
   "source": [
    "# 5.5-5.6 Notes\n",
    "- title: 5.5-5.6 Notes\n",
    "- toc: true\n",
    "- badges: true\n",
    "- categories: [. Practice]\n",
    "- description: These are my notes for 5.5-5.6 "
   ]
  },
  {
   "cell_type": "markdown",
   "metadata": {},
   "source": [
    "## 5.5\n",
    "### 1. When you create a GitHub repository it requests a license type. Review the license types in relationship to this Tech Talk and make some notes in your personal blog.\n",
    "- There are closed and open source licenses. Closed means not open to public and open are. \n",
    "- In closed you have to credit the original authors. \n",
    "- GPL is open and it deosn't allow closed versions of itself to be made\n",
    "- Both are great but have different uses\n",
    "### 2. In your blog, summarize the discussions and personal analysis on Software Licenses/Options, Digital Rights, and other Legal and Ethical thoughts from this College Board topic.\n",
    "- Copyright can be dangerous. Many people use it for their own gain at expense of others. It takes other people work and doesn't give them credit meaning they lose money. \n",
    "- License helps keep copyright away by claiming a product. \n",
    "- We can use liscenses on Github to claim our own work. \n",
    "- It is not easy to detest if someone stole your liscense however. \n",
    "### 3. Make a license for your personal (blog) and Team repositories for the CPT project. Be sure to have a license for both Team GitHub repositories (frontend/backend). Document license(s) you picked and why. FYI, frontend, since it is built on GitHub pages may come with a license and restrictions. Document in blog how team made license choice and process of update.\n",
    "- https://github.com/JakeWarren2414/dolphins2/blob/gh-pages/LICENSE\n",
    "- We chose a GNU General Public License because of its accesibility and easiness to use"
   ]
  },
  {
   "cell_type": "markdown",
   "metadata": {},
   "source": [
    "## 5.6 \n",
    "### 1. Describe PII you have seen on project in CompSci Principles.\n",
    "- I have seen people use usenames, emails, date of birth, and more in their projects. My project includes, username, BMI, calorie intake, sport, and workout routine. \n",
    "### 2. What are your feelings about PII and your personal exposure?\n",
    "- I feel like we should be more careful about PII. If we reveal too much information soemone could take our identity, attack us, or use that information for bad puroses. Of course things like name, country, and credit reports aren't too bad. However, once we give away more personal information such as drivers license number, SS number, and names of reletives it can be dangerous. \n",
    "### 3. Describe good and bad passwords? What is another step that is used to assist in authentication.\n",
    "- A good password would be a name of a pet followed by some number that is personal to you and only you know such as Sammy2414. A bad password would be one that is easily guessed such as 12345678, or one that has accesible information about you such as your instagram username. \n",
    "### 4. Try to describe Symmetric and Asymmetric encryption.\n",
    "- Symmetric encrption is where you only use one key like a password to detec some sort of information. Aysmmeric is where you use two, one public and one private like a username and password. \n",
    "### 5. Provide an example of encryption we used in AWS deployment.\n",
    "- We use the link of our website, the key of our website, and when we make a github page we have to enter a key. \n",
    "### 6. Describe a phishing scheme you have learned about the hard way. Describe some other phishing techniques.\n",
    "- A phishing scheme I have learned is people pretending to be some official such as a member of a credit card company to achieve sensetive information. I have also seen people send a link that when clicked gives information. Finally I have also seen people make websites that require inforation to sign up and it takes that information. "
   ]
  }
 ],
 "metadata": {
  "language_info": {
   "name": "python"
  },
  "orig_nbformat": 4
 },
 "nbformat": 4,
 "nbformat_minor": 2
}
