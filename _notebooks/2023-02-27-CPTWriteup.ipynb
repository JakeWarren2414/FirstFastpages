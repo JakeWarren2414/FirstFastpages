{
 "cells": [
  {
   "cell_type": "markdown",
   "metadata": {},
   "source": [
    "# CPT Write Up\n",
    "- title: CPT Write Up\n",
    "- toc: true\n",
    "- badges: true\n",
    "- categories: [. Practice]\n",
    "- description: This is my CPT Write Up"
   ]
  },
  {
   "cell_type": "markdown",
   "metadata": {},
   "source": [
    "# CPT Writeup\n",
    "\n",
    "Video: https://www.youtube.com/watch?v=vK-NwzAlDlc\n",
    "\n",
    "### 3a\n",
    "- 3.a.i.: The overall purpose of the program is to help with exercising. It is to make it easier for people to plan out how they are going to workout. \n",
    "- 3.a.ii.: The functionality is a sports quiz. The user is asked questions based on their personality and their interests and a sport is given to them. This helps them figure out what sport is best for them and how they are going to use this sport to workout. It makes it much simpliler. \n",
    "- 3.a.iii.: The input is the clicking of the questions in the sports quiz and the output is the result of the sport and the next question appearing. When you click the yes or no button on the quiz, it removes sports from a list and also causes the next question to appear. At the end of the quiz when the questions are all answered, the second output of the results will appear which is the list. \n",
    "\n",
    "### 3b\n",
    "- 3.b.i.: ![List](../images/List.png)\n",
    "- 3.b.ii.: ![ListUse](../images/ListUse.png)\n",
    "- 3.b.iii.: The name of the list is \"Sports\" and the different elements of the list are different sports\n",
    "- 3.b.iv.: The data in the list represent what is going to be shown at the end of the quiz. The different sports in the list will be removed based on the question that is answered and it will result in just a few elements at the end\n",
    "- 3.b.v.: The list is very important. With the list, I am able to write a lot less code with a lot more function. The list also is essential to my code because it is the actual output. The way it works is that at the beggining of the quiz all of the sports are still in the list. As you answer more and more questions, more and more sports are removed from the list based on your answers. At the end of the quiz there will be a \"final list\" which has the recomended sport. Also this allow me to not write a bunch of if statements for every possible result of the quiz. \n",
    "\n",
    "### 3c\n",
    "- 3.c.i.: ![Parameter](../images/Parameter.png)\n",
    "- 3.c.ii.: ![ParameterCall](../images/ParameterCall.png)\n",
    "- 3.c.iii.: This procedure is a selection menu that saves your data into a database. You click the sport you want on the selection menu of the possible results and then you click save data to save this data so it will appear when you reload the page. This is important because it helps you determine what sport is right so you can look back at it. The sports quiz would feel kinda useless if it wasn't there. \n",
    "- 3.c.iv.: The algorithm takes the result from the selection menu and save it. The first line defines a constant variable url with the API endpoint URL. Then, the create_fetch variable is defined by appending the /create endpoint to the url. The currentSport() function is defined, which is triggered by some event (such as a button click). Inside the function, the sport input value from the DOM is retrieved and assigned to the body object.Next, a requestOptions object is defined with the necessary properties for the POST request, including the request method, the body of the request in JSON format, and the content-type header. Then, the fetch() method is used to make the POST request to the create_fetch URL with the requestOptions. The response is handled using the Promise returned by fetch().\n",
    "\n",
    "### 3d\n",
    "- 3.d.i.: \n",
    "1. First call: If the response from the API has a status code of 200, the JSON response data is logged to the console. Otherwise, an error message is logged to the console. \n",
    "2. Second call: The data is then checked to see if it is real and the result is shown. \n",
    "- 3.d.ii.:\n",
    "1. If the error response checks that it equals 200 or not\n",
    "2. Determines if the data is able to be read and used in the function. \n",
    "- 3.d.iii.: \n",
    "1.  Nothing is displayed if it is incorrect and the sport is displayed if it does\n",
    "2. Because it is a selection menu, it always just shows the sport. "
   ]
  }
 ],
 "metadata": {
  "language_info": {
   "name": "python"
  },
  "orig_nbformat": 4
 },
 "nbformat": 4,
 "nbformat_minor": 2
}
