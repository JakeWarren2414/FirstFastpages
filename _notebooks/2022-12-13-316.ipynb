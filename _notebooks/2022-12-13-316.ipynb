{
 "cells": [
  {
   "cell_type": "markdown",
   "metadata": {},
   "source": [
    "# 3.16- Simulations\n",
    "- title: 3.16- Simulations\n",
    "- toc: true\n",
    "- badges: true\n",
    "- categories: [.tri 2 learning]\n",
    "- description: In this lesson we learn about the difference between simulations and experiments and when to use either. "
   ]
  },
  {
   "cell_type": "markdown",
   "metadata": {},
   "source": [
    "## Notes\n",
    "- A simulation is an fake version of a process\n",
    "- An experiment is made to make a discoverey\n",
    "- Simulations are safer and cheaper but not as accurate\n",
    "- Sometimes it can be advantagous for an experiment and sometimes for a simulaiton\n",
    "- \n",
    "## Hacks\n",
    "\n",
    "1. One simulation idea could be one for a business. They could simulate how much of a product would be bought or taken within a certain amount of time. They can determine how much product they need and how fast they need to make it. This is a simulation because they are not occuring in real life. It's advatages are that is can help save money however it is not completely accurate. This would be better than an exerpiment because it saves money. Another could be a video game such as \"The Sims\" which simulates a person.\n",
    "2. ![Flowchart](../images/SimulationQuiz.png)\n",
    "3. The dice rolling simulation simulates a dice. It asks the user to input how many dice they want to roll and then it gives the amount of outputs as the user inuted. So if the user inputted three there would be three outputs. Each of these inputs are a random number between 1-6 simulating the different sides. In real life the user would pick up how many dices they would want to roll then they would roll them. This is a simulation because it simulates a dice roll. Its advantages are that you don't need a dice. Its disadvantages are that it is not as fun. However the function is mostly the same. This would be much better as an experiment because it is more emersive. The main function of dices is board games which are made for fun so we have to maximize that aspect. The code firslty uses a parse inpu command to fetch the data that the user input which would be a number 1-6. Then the random library is imported. Through this the roll variable is set as a random integer 1-6 to simulate the dice's sides. Finally it is printed. \n",
    "4. I am adding a function to the dice. I am making it a game so every number corresponds to a certain space on a board game that changes the game. I also added an extra two sides to the dice and the number of dice increased by 2. "
   ]
  },
  {
   "cell_type": "code",
   "execution_count": 13,
   "metadata": {},
   "outputs": [
    {
     "name": "stdout",
     "output_type": "stream",
     "text": [
      "you rolled: [3, 5, 6, 3, 1, 3]\n",
      "Move back a space\n",
      "Nothing happens\n",
      "Lose a point\n",
      "Move back a space\n",
      "Discard a card\n",
      "Move back a space\n"
     ]
    }
   ],
   "source": [
    "\n",
    "\n",
    "def parse_input(input_string):\n",
    "    if input_string.strip() in {\"1\", \"2\", \"3\",\"4\", \"5\", \"6\", \"7\", \"8\"}:\n",
    "        return int(input_string)\n",
    "    else:\n",
    "        print(\"Please enter a number from 1 to 8.\")\n",
    "        raise SystemExit(1)\n",
    "\n",
    "import random\n",
    "\n",
    "def roll_dice(num_dice):\n",
    "    roll_results = []\n",
    "    for _ in range(num_dice):\n",
    "        roll = random.randint(1, 8)\n",
    "        roll_results.append(roll)\n",
    "    return roll_results\n",
    "\n",
    "\n",
    "num_dice_input = input(\"How many dice do you want to roll? [1-8] \")\n",
    "num_dice = parse_input(num_dice_input)\n",
    "roll_results = roll_dice(num_dice)\n",
    "\n",
    "print(\"you rolled:\", roll_results)\n",
    "\n",
    "for i in roll_results:\n",
    "    if i == 1:\n",
    "        print('Discard a card')\n",
    "    if i == 2:\n",
    "        print('Draw a card')\n",
    "    if i == 3:\n",
    "        print('Move back a space')\n",
    "    if i == 4:\n",
    "        print('Go back to start')\n",
    "    if i == 5:\n",
    "        print('Nothing happens')\n",
    "    if i == 6:\n",
    "        print('Lose a point')\n",
    "    if i == 7:\n",
    "        print('Gain a point')\n",
    "    if i == 8:\n",
    "        print('Skip to finish. ')\n",
    "    \n",
    "    \n"
   ]
  },
  {
   "cell_type": "markdown",
   "metadata": {},
   "source": [
    "5. For my extra credit hack I am making a simulation for feeding a certain amount of people at an event. You can input the amount of people that are going to be at the event and it chooses a random number from 1-3 to determine how much tacos each person will eat which will all ow us to determine how much to make. First the code takes the user input and splits it into indivdual values that equal one. Then each integer is multiplied by a random number 1-3 and then it adds the values for the number of tacos that need to be made. "
   ]
  },
  {
   "cell_type": "code",
   "execution_count": 35,
   "metadata": {},
   "outputs": [
    {
     "name": "stdout",
     "output_type": "stream",
     "text": [
      "We need 99 tacos\n"
     ]
    }
   ],
   "source": [
    "import random\n",
    "\n",
    "# prompt the user for a number\n",
    "people = input(\"How many people do we need.\")\n",
    "\n",
    "# convert the input to an integer\n",
    "people = int(people)\n",
    "\n",
    "# create a list to store the individual numbers\n",
    "numbers = []\n",
    "\n",
    "# iterate over a range of numbers from 0 to the input number\n",
    "for i in range(people):\n",
    "    # add the value 1 to the list\n",
    "    numbers.append(1)\n",
    "\n",
    "# create a list to store the multiplied numbers\n",
    "tacos = []\n",
    "\n",
    "# iterate over each number in the list\n",
    "for num in numbers:\n",
    "    # generate a random number between 1 and 3\n",
    "    factor = random.randint(1, 3)\n",
    "\n",
    "    # perform the multiplication\n",
    "    multiplied_num = num * factor\n",
    "\n",
    "    # add the multiplied number to the list of multiplied numbers\n",
    "    tacos.append(multiplied_num)\n",
    "\n",
    "# add up all of the multiplied numbers\n",
    "total = sum(tacos)\n",
    "\n",
    "# print the total\n",
    "print(\"We need\", total, 'tacos')\n"
   ]
  }
 ],
 "metadata": {
  "kernelspec": {
   "display_name": "Python 3.9.12 ('base')",
   "language": "python",
   "name": "python3"
  },
  "language_info": {
   "codemirror_mode": {
    "name": "ipython",
    "version": 3
   },
   "file_extension": ".py",
   "mimetype": "text/x-python",
   "name": "python",
   "nbconvert_exporter": "python",
   "pygments_lexer": "ipython3",
   "version": "3.9.12"
  },
  "orig_nbformat": 4,
  "vscode": {
   "interpreter": {
    "hash": "40d3a090f54c6569ab1632332b64b2c03c39dcf918b08424e98f38b5ae0af88f"
   }
  }
 },
 "nbformat": 4,
 "nbformat_minor": 2
}
