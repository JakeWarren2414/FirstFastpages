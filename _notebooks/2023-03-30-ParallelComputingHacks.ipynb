{
 "cells": [
  {
   "attachments": {},
   "cell_type": "markdown",
   "metadata": {},
   "source": [
    "# Parallel Comupting Hacks\n",
    "- title: Parallel Computing Hacks \n",
    "- toc: true\n",
    "- layout: base\n",
    "- badges: true\n",
    "- categories: [. Practice]\n",
    "- description: This is my blog for the parallel computing hacks "
   ]
  },
  {
   "cell_type": "markdown",
   "metadata": {},
   "source": []
  },
  {
   "attachments": {},
   "cell_type": "markdown",
   "metadata": {},
   "source": [
    "## Hacks\n",
    "> AP Classroom. Provide answers and thoughts on theoritical question form college board Video in section 4.3.  They start at about the 9 minute mark.\n",
    "- Example 1\n",
    "    - When two of the processes are running in parallel in this example it will take 50 seconds to run. This is because Y and Z are going to run in parallel. Y will take 10 seconds and Z will take thirty seconds. Together this will take forty seconds. The third process will take 50 seconds to run so this would be the mininmum. One processor would be doing Y then Z and one would be doing X. Both the processors would be running at the same time so the one that takes forty second will stop and the whole entire process will stop after 50 seconds when the second process is done. \n",
    "- Example 2\n",
    "    - The difference in time between running these processes in parallel than one after another is 25 seconds. If we run them in parallel they will run at the same time so the longer process will be the execution time. This is 45 seconds. Running them one after another is adding them together which would be 25+45 which is 70. So one process is 70 second and one is 45 seconds. 70-25= 25 seconds. \n",
    "\n",
    "> Data Structures.  Build a List Comprehension example\n",
    "- list = [calc(item) for item in items]\n",
    "    - I sorted the 100m times of olympic sprinters, me, and a random character."
   ]
  },
  {
   "cell_type": "code",
   "execution_count": 5,
   "metadata": {},
   "outputs": [
    {
     "name": "stdout",
     "output_type": "stream",
     "text": [
      "{'Bill': {'PR': 13.45}, 'Jake': {'PR': 11.14}, 'Noah': {'PR': 9.86}, 'Yohan': {'PR': 9.68}, 'Usain': {'PR': 9.58}}\n"
     ]
    }
   ],
   "source": [
    "One_Hundred_Meter_times = {\n",
    "    \"Runners\": {\n",
    "        \"Jake\": {\n",
    "            \"PR\": 11.14,\n",
    "        },\n",
    "        \"Usain\": {\n",
    "            \"PR\": 9.58,\n",
    "        },\n",
    "        \"Yohan\": {\n",
    "            \"PR\": 9.68,\n",
    "        },\n",
    "        \"Noah\": {\n",
    "            \"PR\": 9.86,\n",
    "        },\n",
    "        \"Bill\": {\n",
    "            \"PR\": 13.45,\n",
    "        }\n",
    "    }\n",
    "}\n",
    "\n",
    "Times = {runner: One_Hundred_Meter_times['Runners'][runner] for runner in One_Hundred_Meter_times['Runners']}\n",
    "\n",
    "def sort_times(times):\n",
    "    sorted_times = dict(sorted(times.items(), key=lambda x: x[1]['PR'], reverse=True))\n",
    "    return sorted_times\n",
    "\n",
    "sorted_times = sort_times(Times)\n",
    "print(sorted_times)"
   ]
  }
 ],
 "metadata": {
  "kernelspec": {
   "display_name": "base",
   "language": "python",
   "name": "python3"
  },
  "language_info": {
   "codemirror_mode": {
    "name": "ipython",
    "version": 3
   },
   "file_extension": ".py",
   "mimetype": "text/x-python",
   "name": "python",
   "nbconvert_exporter": "python",
   "pygments_lexer": "ipython3",
   "version": "3.9.12"
  },
  "orig_nbformat": 4
 },
 "nbformat": 4,
 "nbformat_minor": 2
}
