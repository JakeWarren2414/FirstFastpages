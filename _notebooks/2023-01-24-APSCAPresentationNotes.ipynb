{
 "cells": [
  {
   "cell_type": "markdown",
   "metadata": {},
   "source": [
    "# APSCA Presentation Notes\n",
    "- title: APSCA Presentation Notes\n",
    "- toc: true\n",
    "- badges: true\n",
    "- layout: base\n",
    "- categories: [. Practice]\n",
    "- description: This was a presentation given by students of APCSA"
   ]
  },
  {
   "cell_type": "markdown",
   "metadata": {},
   "source": [
    "## Notes\n",
    "- They are making a spreadsheet with list of clubs\n",
    "- They want club executives to confirm clubs\n",
    "    - Makes it easier to verify\n",
    "- Club listing database\n",
    "    - When a club signs up it will automatically make a row in the database\n",
    "    - Clubs can only edit their code\n",
    "    - An Admin can kick anyone if need be\n",
    "    - Clubs can update and delete their information\n",
    "- Club review database\n",
    "    - Students can review the club from comments\n",
    "- Clubs are required to meet minutes\n",
    "    - They have to go through a length and unorganized process of documenting in person\n",
    "        - They can just put in their documents into a database\n",
    "- Club Search\n",
    "    - They can search a topic of interest\n",
    "- Made a spreadsheet to stay on track \n",
    "- Made scrum board\n",
    "- Stated purpose of project\n",
    "- Explained backend and frontend\n",
    "- Met CRUD and collegeboard criteria\n",
    "- Plans\n",
    "- Showed manifesto\n"
   ]
  },
  {
   "cell_type": "markdown",
   "metadata": {},
   "source": [
    "## Takeaways\n",
    "- We can make our scrumboard much more specific. We need to add dates and make it more organized. Also we can add more specific tasks\n",
    "- We also can make a spreadsheet to be more organized. \n",
    "- We can use a database where people input their weight personal records and keep on updating it\n",
    "    - We can make it to where they can only edit their own \n",
    "    - We need to be able to explain what is frontend and what is backend\n",
    "- We have to make sure every feature meets college board requirements\n",
    "- Maybe we can implement an admin in our project\n",
    "- We can make a search feature in our website such as search for exercise\n"
   ]
  }
 ],
 "metadata": {
  "kernelspec": {
   "display_name": "Python 3.10.9 64-bit",
   "language": "python",
   "name": "python3"
  },
  "language_info": {
   "name": "python",
   "version": "3.10.9"
  },
  "orig_nbformat": 4,
  "vscode": {
   "interpreter": {
    "hash": "b0fa6594d8f4cbf19f97940f81e996739fb7646882a419484c72d19e05852a7e"
   }
  }
 },
 "nbformat": 4,
 "nbformat_minor": 2
}
