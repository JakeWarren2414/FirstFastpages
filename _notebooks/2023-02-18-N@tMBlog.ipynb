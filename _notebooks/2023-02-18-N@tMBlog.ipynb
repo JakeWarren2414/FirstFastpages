{
 "cells": [
  {
   "cell_type": "markdown",
   "metadata": {},
   "source": [
    "# Night at the Museum\n",
    "- title: Night at the Museum\n",
    "- toc: true\n",
    "- badges: true\n",
    "- categories: [. Practice]\n",
    "- description: This is my blog for the N@tM"
   ]
  },
  {
   "cell_type": "markdown",
   "metadata": {},
   "source": [
    "## Video\n",
    "- https://youtu.be/wv44BAgjOvE \n",
    "- Here is my video for the Night At the Museam\n",
    "- I wasn't able to attend so I filmed this video of people reacting to my project\n",
    "- people seemed to like it for te most part but were a little confused. Maybe that was because those people were my parents.\n",
    "- My friend Chris who understands technology a bit better was able to complete the quiz better. \n",
    "- My borther also did and had a really good time with the quiz.\n",
    "\n",
    "## Pictures\n",
    "- My friend sent me pictures from the Night at the Museam so I was able to see some of the projects that were there\n",
    "\n",
    "![Chair](../images/Chair.png)\n",
    "- This chair was made in computer animation. It is quite interesting because it shows how realistic computers can be. Even high school students can make an almost real looking image. It is similar to new technology coming out that can essentially make a human robot. We have chat GDP that you can have a conversation with, we have technology that takes voice clips of someone and makes an ai voice with it, and there is deep fake technology. \n",
    "\n",
    "![Donut](../images/Donut1.png)\n",
    "\n",
    "![Donut](../images/Donut2.png)\n",
    "- These donuts were made in 3D animation. It is quite cool what you can do in this class kind of like computer animation. However with this you can tell it is fake\n",
    "\n",
    "![Snorlax](../images/Snorlax.png)\n",
    "- This snorlax was made in a ceramics class which I am also taking. It is quite a cute creation and I make thing similar to this. Living things and animals are fun to make. This Snorlax is a character from Pokemon\n",
    "\n",
    "![Cup](../images/Cup.png)\n",
    "- This cup looks very similar to something I might make. It was designed as a trophy for first plce which I thing is quite cool.\n"
   ]
  }
 ],
 "metadata": {
  "language_info": {
   "name": "python"
  },
  "orig_nbformat": 4
 },
 "nbformat": 4,
 "nbformat_minor": 2
}
