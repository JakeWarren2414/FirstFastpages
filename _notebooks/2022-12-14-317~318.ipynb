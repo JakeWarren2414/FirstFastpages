{
 "cells": [
  {
   "cell_type": "markdown",
   "metadata": {},
   "source": [
    "# 3.17/3.18- Algorithmic Efficiency/Undecidable Problems\n",
    "- title: 3.17/3.18- Algorithmic Efficiency/Undecidable Problems\n",
    "- toc: true\n",
    "- badges: true\n",
    "- categories: [.tri 2 learning]\n",
    "- description:  "
   ]
  },
  {
   "cell_type": "markdown",
   "metadata": {},
   "source": [
    "# Notes\n",
    "- An Undecidable problem is a problem where the answer is clear such as yes or no. However, not every input is able to correctly answer all the inputs. \n",
    "- An unsolvable problem is a problem where the solution is not real. There will never be a solution to the algorithm. \n",
    "- A collatz is the idea of wheter or not every number every made, repeating the two simple arithmetic operations will eventually transform every positive integer into 1\n",
    "- Hailstone numbers in a collatz sequence thatnis generated until it equals one. \n",
    "- An iteration is the process of repeating in code until a condition is met. "
   ]
  },
  {
   "cell_type": "markdown",
   "metadata": {},
   "source": [
    "# Hacks\n",
    "\n",
    "## Hacks 1"
   ]
  },
  {
   "cell_type": "code",
   "execution_count": 2,
   "metadata": {},
   "outputs": [
    {
     "name": "stdout",
     "output_type": "stream",
     "text": [
      "16\n",
      "[22, 11, 34, 17, 52, 26, 13, 40, 20, 10, 5, 16, 8, 4, 2, 1]\n"
     ]
    }
   ],
   "source": [
    "num = []\n",
    "count = 0\n",
    "def collatz(i):\n",
    "    global count\n",
    "    global num\n",
    "    while i > 1:\n",
    "        if (i % 2):\n",
    "            # i is odd\n",
    "            i = 3*i + 1\n",
    "            count +=1\n",
    "            num.append(i)\n",
    "\n",
    "        else:\n",
    "            # i is even\n",
    "            i = i//2\n",
    "            count +=1\n",
    "            num.append(i)\n",
    "    else:\n",
    "        print(count)\n",
    "        print(num)\n",
    " \n",
    " \n",
    "i = int(input('Enter i: '))\n",
    "collatz(i)"
   ]
  },
  {
   "cell_type": "markdown",
   "metadata": {},
   "source": [
    "## Hacks 2\n",
    "\n",
    "- The first block is inefficiant because it doesn't use greater than or equal signs. Overall it makes me use 10x more if statments and is very annoying. The second block of code uses greater than or equal signs and is much more efficiant. "
   ]
  },
  {
   "cell_type": "code",
   "execution_count": 16,
   "metadata": {},
   "outputs": [
    {
     "name": "stdout",
     "output_type": "stream",
     "text": [
      "Got got an F\n"
     ]
    }
   ],
   "source": [
    "score = int(input(\"What score did you get out of 100?\"))\n",
    "\n",
    "if score == 100:\n",
    "    print(\"Got got an A\")\n",
    "if score == 99:\n",
    "    print(\"Got got an A\")\n",
    "if score == 98:\n",
    "    print(\"Got got an A\")\n",
    "if score == 97:\n",
    "    print(\"Got got an A\")\n",
    "if score == 96:\n",
    "    print(\"Got got an A\")\n",
    "if score == 95:\n",
    "    print(\"Got got an A\")\n",
    "if score == 94:\n",
    "    print(\"Got got an A\")\n",
    "if score == 93:\n",
    "    print(\"Got got an A\") \n",
    "if score == 92:\n",
    "    print(\"Got got an A\")\n",
    "if score == 91:\n",
    "    print(\"Got got an A\")   \n",
    "if score == 90:\n",
    "    print(\"Got got an A\")   \n",
    "if score == 89:\n",
    "    print(\"Got got an B\")   \n",
    "if score == 88:\n",
    "    print(\"Got got an B\")  \n",
    "if score == 87:\n",
    "    print(\"Got got an B\")  \n",
    "if score == 86:\n",
    "    print(\"Got got an B\")  \n",
    "if score == 85:\n",
    "    print(\"Got got an B\")  \n",
    "if score == 84:\n",
    "    print(\"Got got an B\")  \n",
    "if score == 83:\n",
    "    print(\"Got got an B\")  \n",
    "if score == 82:\n",
    "    print(\"Got got an B\")  \n",
    "if score == 81:\n",
    "    print(\"Got got an B\")  \n",
    "if score == 80:\n",
    "    print(\"Got got an B\")  \n",
    "if score == 79:\n",
    "    print(\"Got got an C\")\n",
    "if score == 78:\n",
    "    print(\"Got got an C\")\n",
    "if score == 77:\n",
    "    print(\"Got got an C\")\n",
    "if score == 76:\n",
    "    print(\"Got got an C\")\n",
    "if score == 75:\n",
    "    print(\"Got got an C\")\n",
    "if score == 74:\n",
    "    print(\"Got got an C\")\n",
    "if score == 73:\n",
    "    print(\"Got got an C\")\n",
    "if score == 72:\n",
    "    print(\"Got got an C\")\n",
    "if score == 71:\n",
    "    print(\"Got got an C\")\n",
    "if score == 69:\n",
    "    print(\"Got got an D\")\n",
    "if score == 68:\n",
    "    print(\"Got got an D\")\n",
    "if score == 67:\n",
    "    print(\"Got got an D\")\n",
    "if score == 66:\n",
    "    print(\"Got got an D\")\n",
    "if score == 65:\n",
    "    print(\"Got got an D\")\n",
    "if score == 64:\n",
    "    print(\"Got got an D\")\n",
    "if score == 63:\n",
    "    print(\"Got got an D\")\n",
    "if score == 62:\n",
    "    print(\"Got got an D\")\n",
    "if score == 61:\n",
    "    print(\"Got got an D\")\n",
    "if score == 60:\n",
    "    print(\"Got got an D\")\n",
    "if score <= 59:\n",
    "    print(\"Got got an F\")\n",
    "\n"
   ]
  },
  {
   "cell_type": "code",
   "execution_count": 22,
   "metadata": {},
   "outputs": [
    {
     "name": "stdout",
     "output_type": "stream",
     "text": [
      "Got got an D\n"
     ]
    }
   ],
   "source": [
    "score = int(input(\"What score did you get out of 100?\"))\n",
    "\n",
    "if 90 <= score <= 100:\n",
    "    print(\"Got got an A\")\n",
    "if 80 <= score <= 89:\n",
    "    print(\"Got got an B\")\n",
    "if 70 <= score <= 79:\n",
    "    print(\"Got got an C\")\n",
    "if 60 <= score <= 69:\n",
    "    print(\"Got got an D\")\n",
    "if score <= 59:\n",
    "    print(\"Got got an F\")"
   ]
  },
  {
   "cell_type": "markdown",
   "metadata": {},
   "source": [
    "## Hacks 3\n",
    "- Algorithm efficiency is how short or simple a code can be for a certain function. You want to be able to make your code in the easiest way possible. This is called lazy coding. "
   ]
  },
  {
   "cell_type": "markdown",
   "metadata": {},
   "source": [
    "## Hacks 4\n"
   ]
  },
  {
   "cell_type": "code",
   "execution_count": 25,
   "metadata": {},
   "outputs": [
    {
     "name": "stdout",
     "output_type": "stream",
     "text": [
      "Currently waking up\n",
      "Currently going to school\n",
      "Currently going to practice\n",
      "Currently eating\n",
      "Currently sleeping\n"
     ]
    }
   ],
   "source": [
    "tasks = [\"Wake up\", \"Go to school\", \"Go to Practice\",  \"Eat\", \"Go to sleep\"]\n",
    " \n",
    "def complete_tasks(tasks):\n",
    "    for task in tasks: \n",
    "        if task == \"Wake up\":\n",
    "            print(\"Currently waking up\")\n",
    "        elif task == \"Go to school\":\n",
    "            print(\"Currently going to school\")\n",
    "        elif task == \"Go to Practice\":\n",
    "            print(\"Currently going to practice\")\n",
    "        elif task == \"Eat\":\n",
    "            print(\"Currently eating\")\n",
    "        elif task == \"Go to sleep\":\n",
    "            print(\"Currently sleeping\")\n",
    "        \n",
    "complete_tasks(tasks)"
   ]
  },
  {
   "cell_type": "markdown",
   "metadata": {},
   "source": [
    "# Vocab: \n",
    "- An Undecidable problem is a problem where the answer is clear such as yes or no. However, not every input is able to correctly answer all the inputs. \n",
    "- An unsolvable problem is a problem where the solution is not real. There will never be a solution to the algorithm. \n",
    "- A collatz is the idea of wheter or not every number every made, repeating the two simple arithmetic operations will eventually transform every positive integer into 1\n",
    "- Hailstone numbers in a collatz sequence thatnis generated until it equals one. \n",
    "- An iteration is the process of repeating in code until a condition is met. "
   ]
  }
 ],
 "metadata": {
  "kernelspec": {
   "display_name": "Python 3.9.12 ('base')",
   "language": "python",
   "name": "python3"
  },
  "language_info": {
   "codemirror_mode": {
    "name": "ipython",
    "version": 3
   },
   "file_extension": ".py",
   "mimetype": "text/x-python",
   "name": "python",
   "nbconvert_exporter": "python",
   "pygments_lexer": "ipython3",
   "version": "3.9.12"
  },
  "orig_nbformat": 4,
  "vscode": {
   "interpreter": {
    "hash": "40d3a090f54c6569ab1632332b64b2c03c39dcf918b08424e98f38b5ae0af88f"
   }
  }
 },
 "nbformat": 4,
 "nbformat_minor": 2
}
