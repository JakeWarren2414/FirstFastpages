{
 "cells": [
  {
   "cell_type": "markdown",
   "metadata": {},
   "source": [
    "# 3.3 \n",
    "- title: 3.3-3.4\n",
    "- toc: true\n",
    "- badges: true\n",
    "- categories: [markdown]"
   ]
  },
  {
   "cell_type": "markdown",
   "metadata": {},
   "source": [
    "## Notes\n",
    "\n",
    "- Algorithms are a finite set of instructions that accomplish a task. it has three parts, sequence, selection, and iteration\n",
    "- A sequence is the order of how to do something to achieve a result, similarly to how you follow the instructions from a teacher. \n",
    "- A selection allows an algorithm to make a decision based on if a condition is met, an example of this is when your car is out of fuel, you go to the gas station to fill your car, but if your car is full you wouldn't go to the gas station.\n",
    "- An iteration is a loop and doing something again until a condition is met, like you put away your computer when you are finished with your work.\n",
    "-  Arithmetic uses addition, subtraction, division, multiplication, and modulus operator\n",
    "- Addition: a+b\n",
    "- Subtraction: a-b\n",
    "- Multiplication: a*b\n",
    "- Division: a/b\n",
    "- Modulus: a MOD b\n",
    "- (a and b can be string or number)\n",
    "- A string concatenation connects two or more string end-to-end to make a new string\n",
    "- Len() gives the character number\n",
    "- strings are variables and can be joined together through the print() command to make a statement\n",
    "- \n",
    "\n",
    "\n"
   ]
  },
  {
   "cell_type": "markdown",
   "metadata": {},
   "source": [
    "## Hacks \n",
    "\n",
    "### Hack 1 \n",
    "\n"
   ]
  },
  {
   "cell_type": "markdown",
   "metadata": {},
   "source": [
    "1. Sequence\n",
    "2. Sequence\n",
    "3. Selection\n",
    "4. Iteration/Selection\n",
    "5. Sequence \n",
    "\n",
    "- The sequences are just the items and steps in order. The first set is to set item to a number and then get next number in the list. \n",
    "- Te slection is number three and number 4 because it is making a decion based on and input and giving a different output depending on what the input was. The iteration is 4 because it is redirecting the code also known as looping. "
   ]
  },
  {
   "cell_type": "markdown",
   "metadata": {},
   "source": [
    "### Hack 2 "
   ]
  },
  {
   "cell_type": "code",
   "execution_count": null,
   "metadata": {},
   "outputs": [],
   "source": [
    "num1 = 5\n",
    "num2 = num1 * 3\n",
    "num3 = num2 / num1 * (9 % 2) * 4\n",
    "result = (num3 % num1 + num2) % num3 * 3 / 5\n"
   ]
  },
  {
   "cell_type": "markdown",
   "metadata": {},
   "source": [
    "5 X 3 = 15/5= 3 \n",
    "9/2 leaves remainder of 1 \n",
    "1 X 4 X 3 = 12\n",
    "12 % 5 = 2 + 12 = 15\n",
    "17 % 12 = 5\n",
    "5 X 3= 15\n",
    "15/5= 3"
   ]
  },
  {
   "cell_type": "markdown",
   "metadata": {},
   "source": [
    "### Hack 3"
   ]
  },
  {
   "cell_type": "markdown",
   "metadata": {},
   "source": [
    "![Strings Quiz](../images/StringsQuiz.png)"
   ]
  }
 ],
 "metadata": {
  "kernelspec": {
   "display_name": "Python 3.9.12 ('base')",
   "language": "python",
   "name": "python3"
  },
  "language_info": {
   "name": "python",
   "version": "3.9.12"
  },
  "orig_nbformat": 4,
  "vscode": {
   "interpreter": {
    "hash": "40d3a090f54c6569ab1632332b64b2c03c39dcf918b08424e98f38b5ae0af88f"
   }
  }
 },
 "nbformat": 4,
 "nbformat_minor": 2
}
