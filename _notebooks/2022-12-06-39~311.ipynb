{
 "cells": [
  {
   "cell_type": "markdown",
   "metadata": {},
   "source": [
    "---\n",
    "title: 3.9-3.11\n",
    "---"
   ]
  },
  {
   "cell_type": "markdown",
   "metadata": {},
   "source": [
    "# 3.9/3.11 Notes\n",
    "- Algorithms\n",
    "- You can make a grade callulator based on a certain persecntage and arithmetic\n",
    "- When collaborating or working on group projects, two people might come up with two different ways to solve a problem, and that happens a lot.\n",
    "- know that same goal can be achieved in many ways (the possibilities are endless)\n",
    "- make notes in you code! (explain how it works to others or you future self)\n",
    "- Boolean statements can be put into nested conditionals to cause a chain of asking wheter an item is true or false with a lot of questions. \n",
    "- Outlining an algorithm is very important to know how to organize your code.\n",
    "- Iteration is like a loop\n",
    "- Existing Algorithm: \n",
    "    - determining min or max of two or more numbers\n",
    "    - computing the sum or average\n",
    "    - identifying if an integer is even or odd\n",
    "- Binary Search: To divide a serach interval in half multiple times until something stops it \n",
    "- "
   ]
  },
  {
   "cell_type": "markdown",
   "metadata": {},
   "source": [
    "# Hacks"
   ]
  },
  {
   "cell_type": "markdown",
   "metadata": {},
   "source": [
    "## Hack 1"
   ]
  },
  {
   "cell_type": "markdown",
   "metadata": {},
   "source": [
    "1. It is important to know that algorithms that look different can do the same thing and algorithms that look the same might have differnt results for multiple reason. If you are working with a team you have to understand what their code is saying so you can use it with them. Also it allows you to make different types of code and understand it better making you an even better programmer. \n",
    "2. "
   ]
  },
  {
   "cell_type": "code",
   "execution_count": 21,
   "metadata": {},
   "outputs": [
    {
     "name": "stdout",
     "output_type": "stream",
     "text": [
      "Go to Canes\n"
     ]
    }
   ],
   "source": [
    "isFriday = True\n",
    "isThurday = False\n",
    "\n",
    "#If Statements\n",
    "if isFriday == True:\n",
    "    print(\"Go to Canes\")\n",
    "else:\n",
    "    print(\"It's not Friday and that sucks\")\n",
    "\n",
    "if isThurday == True:\n",
    "    print(\"Go to practice\")"
   ]
  },
  {
   "cell_type": "markdown",
   "metadata": {},
   "source": [
    "## Hacks 2\n",
    "\n",
    "![Flowchart](../images/DrinkFlowchart2.png)"
   ]
  },
  {
   "cell_type": "markdown",
   "metadata": {},
   "source": [
    "### Natural lang\n",
    "- Start\n",
    "- Are you old enought to drink\n",
    "- if not wait a year\n",
    "- do you have money\n",
    "- if not you're poor\n",
    "- if so you get beer"
   ]
  },
  {
   "cell_type": "code",
   "execution_count": 13,
   "metadata": {},
   "outputs": [
    {
     "name": "stdout",
     "output_type": "stream",
     "text": [
      "18\n",
      "19\n",
      "20\n",
      "21\n",
      "im poor\n"
     ]
    }
   ],
   "source": [
    "age = 17\n",
    "money = 3\n",
    "\n",
    "#Waiting a year\n",
    "while age <= 20:\n",
    "    age = age + 1\n",
    "    print(age)\n",
    "if age >= 21:\n",
    "    if money >= 3.99:\n",
    "        print(\"Here is your Drink\")\n",
    "    else:\n",
    "        print(\"im poor\")\n"
   ]
  },
  {
   "cell_type": "markdown",
   "metadata": {},
   "source": [
    "## Hack 3"
   ]
  },
  {
   "cell_type": "code",
   "execution_count": 1,
   "metadata": {},
   "outputs": [
    {
     "name": "stdout",
     "output_type": "stream",
     "text": [
      "I'm thinking of a number between 1 and 100.\n",
      "You guessed None.\n"
     ]
    },
    {
     "ename": "TypeError",
     "evalue": "'<' not supported between instances of 'NoneType' and 'int'",
     "output_type": "error",
     "traceback": [
      "\u001b[0;31m---------------------------------------------------------------------------\u001b[0m",
      "\u001b[0;31mTypeError\u001b[0m                                 Traceback (most recent call last)",
      "\u001b[1;32m/Users/jakewarren/vscode/FirstFastpages/_notebooks/2022-12-06-39~311.ipynb Cell 11\u001b[0m in \u001b[0;36m<cell line: 32>\u001b[0;34m()\u001b[0m\n\u001b[1;32m     <a href='vscode-notebook-cell:/Users/jakewarren/vscode/FirstFastpages/_notebooks/2022-12-06-39~311.ipynb#X13sZmlsZQ%3D%3D?line=33'>34</a>\u001b[0m     num_guesses \u001b[39m+\u001b[39m\u001b[39m=\u001b[39m \u001b[39m1\u001b[39m\n\u001b[1;32m     <a href='vscode-notebook-cell:/Users/jakewarren/vscode/FirstFastpages/_notebooks/2022-12-06-39~311.ipynb#X13sZmlsZQ%3D%3D?line=34'>35</a>\u001b[0m     \u001b[39mprint\u001b[39m(\u001b[39mf\u001b[39m\u001b[39m\"\u001b[39m\u001b[39mYou guessed \u001b[39m\u001b[39m{\u001b[39;00muser_guess\u001b[39m}\u001b[39;00m\u001b[39m.\u001b[39m\u001b[39m\"\u001b[39m)\n\u001b[0;32m---> <a href='vscode-notebook-cell:/Users/jakewarren/vscode/FirstFastpages/_notebooks/2022-12-06-39~311.ipynb#X13sZmlsZQ%3D%3D?line=35'>36</a>\u001b[0m     lower_bound, upper_bound \u001b[39m=\u001b[39m search(number, user_guess)\n\u001b[1;32m     <a href='vscode-notebook-cell:/Users/jakewarren/vscode/FirstFastpages/_notebooks/2022-12-06-39~311.ipynb#X13sZmlsZQ%3D%3D?line=36'>37</a>\u001b[0m     \u001b[39mprint\u001b[39m(\u001b[39mf\u001b[39m\u001b[39m\"\u001b[39m\u001b[39mGuess a number between \u001b[39m\u001b[39m{\u001b[39;00mlower_bound\u001b[39m}\u001b[39;00m\u001b[39m and \u001b[39m\u001b[39m{\u001b[39;00mupper_bound\u001b[39m}\u001b[39;00m\u001b[39m.\u001b[39m\u001b[39m\"\u001b[39m)\n\u001b[1;32m     <a href='vscode-notebook-cell:/Users/jakewarren/vscode/FirstFastpages/_notebooks/2022-12-06-39~311.ipynb#X13sZmlsZQ%3D%3D?line=38'>39</a>\u001b[0m \u001b[39mprint\u001b[39m(\u001b[39mf\u001b[39m\u001b[39m\"\u001b[39m\u001b[39mYou guessed the number in \u001b[39m\u001b[39m{\u001b[39;00mnum_guesses\u001b[39m}\u001b[39;00m\u001b[39m guesses!\u001b[39m\u001b[39m\"\u001b[39m)\n",
      "\u001b[1;32m/Users/jakewarren/vscode/FirstFastpages/_notebooks/2022-12-06-39~311.ipynb Cell 11\u001b[0m in \u001b[0;36msearch\u001b[0;34m(number, guess)\u001b[0m\n\u001b[1;32m     <a href='vscode-notebook-cell:/Users/jakewarren/vscode/FirstFastpages/_notebooks/2022-12-06-39~311.ipynb#X13sZmlsZQ%3D%3D?line=21'>22</a>\u001b[0m \u001b[39mdef\u001b[39;00m \u001b[39msearch\u001b[39m(number, guess):\n\u001b[1;32m     <a href='vscode-notebook-cell:/Users/jakewarren/vscode/FirstFastpages/_notebooks/2022-12-06-39~311.ipynb#X13sZmlsZQ%3D%3D?line=22'>23</a>\u001b[0m     \u001b[39mglobal\u001b[39;00m lower_bound, upper_bound\n\u001b[0;32m---> <a href='vscode-notebook-cell:/Users/jakewarren/vscode/FirstFastpages/_notebooks/2022-12-06-39~311.ipynb#X13sZmlsZQ%3D%3D?line=23'>24</a>\u001b[0m     \u001b[39mif\u001b[39;00m guess \u001b[39m<\u001b[39;49m number:\n\u001b[1;32m     <a href='vscode-notebook-cell:/Users/jakewarren/vscode/FirstFastpages/_notebooks/2022-12-06-39~311.ipynb#X13sZmlsZQ%3D%3D?line=24'>25</a>\u001b[0m         \u001b[39mprint\u001b[39m(\u001b[39m\"\u001b[39m\u001b[39mYou are bad at guessing\u001b[39m\u001b[39m\"\u001b[39m) \u001b[39m#change this\u001b[39;00m\n\u001b[1;32m     <a href='vscode-notebook-cell:/Users/jakewarren/vscode/FirstFastpages/_notebooks/2022-12-06-39~311.ipynb#X13sZmlsZQ%3D%3D?line=25'>26</a>\u001b[0m         lower_bound \u001b[39m=\u001b[39m guess\n",
      "\u001b[0;31mTypeError\u001b[0m: '<' not supported between instances of 'NoneType' and 'int'"
     ]
    }
   ],
   "source": [
    "import random\n",
    "\n",
    "#sets variables for the game\n",
    "num_guesses = 0\n",
    "user_guess = 0\n",
    "upper_bound = 100\n",
    "lower_bound = 0\n",
    "\n",
    "#generates a random number\n",
    "number = random.randint(1,100)\n",
    "\n",
    "# print(number)     #for testing purposes\n",
    "\n",
    "print(f\"I'm thinking of a number between 1 and 100.\")\n",
    "\n",
    "#Write a function that gets a guess from the user using input()\n",
    "def guess():\n",
    "    #add something here\n",
    "    return #add something here \n",
    "\n",
    "#Change the print statements to give feedback on whether the player guessed too high or too low\n",
    "def search(number, guess):\n",
    "    global lower_bound, upper_bound\n",
    "    if guess < number:\n",
    "        print(\"You are bad at guessing\") #change this\n",
    "        lower_bound = guess\n",
    "    elif guess > number:\n",
    "        print(\"You suck :(\") #change this\n",
    "        upper_bound = guess\n",
    "    return lower_bound, upper_bound\n",
    "\n",
    "while user_guess != number:\n",
    "    user_guess = guess()\n",
    "    num_guesses += 1\n",
    "    print(f\"You guessed {user_guess}.\")\n",
    "    lower_bound, upper_bound = search(number, user_guess)\n",
    "    print(f\"Guess a number between {lower_bound} and {upper_bound}.\")\n",
    "\n",
    "print(f\"You guessed the number in {num_guesses} guesses!\")"
   ]
  },
  {
   "cell_type": "markdown",
   "metadata": {},
   "source": [
    "##"
   ]
  }
 ],
 "metadata": {
  "kernelspec": {
   "display_name": "Python 3.9.12 ('base')",
   "language": "python",
   "name": "python3"
  },
  "language_info": {
   "codemirror_mode": {
    "name": "ipython",
    "version": 3
   },
   "file_extension": ".py",
   "mimetype": "text/x-python",
   "name": "python",
   "nbconvert_exporter": "python",
   "pygments_lexer": "ipython3",
   "version": "3.9.12"
  },
  "orig_nbformat": 4,
  "vscode": {
   "interpreter": {
    "hash": "40d3a090f54c6569ab1632332b64b2c03c39dcf918b08424e98f38b5ae0af88f"
   }
  }
 },
 "nbformat": 4,
 "nbformat_minor": 2
}
