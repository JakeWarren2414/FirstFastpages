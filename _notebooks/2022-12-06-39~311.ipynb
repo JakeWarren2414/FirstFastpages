{
 "cells": [
  {
   "cell_type": "markdown",
   "metadata": {},
   "source": [
    "# 3.9/3.11-Deveoping Algorithms/Binary Search\n",
    "- title: 3.9-3.11\n",
    "- toc: true\n",
    "- badges: true\n",
    "- categories: [.tri 2 learning]\n"
   ]
  },
  {
   "cell_type": "markdown",
   "metadata": {},
   "source": [
    "# 3.9/3.11 Notes\n",
    "- Algorithms\n",
    "- You can make a grade callulator based on a certain persecntage and arithmetic\n",
    "- When collaborating or working on group projects, two people might come up with two different ways to solve a problem, and that happens a lot.\n",
    "- know that same goal can be achieved in many ways (the possibilities are endless)\n",
    "- make notes in you code! (explain how it works to others or you future self)\n",
    "- Boolean statements can be put into nested conditionals to cause a chain of asking wheter an item is true or false with a lot of questions. \n",
    "- Outlining an algorithm is very important to know how to organize your code.\n",
    "- Iteration is like a loop\n",
    "- Existing Algorithm: \n",
    "    - determining min or max of two or more numbers\n",
    "    - computing the sum or average\n",
    "    - identifying if an integer is even or odd\n",
    "- Binary Search: To divide a serach interval in half multiple times until something stops it \n",
    "- "
   ]
  },
  {
   "cell_type": "markdown",
   "metadata": {},
   "source": [
    "# Hacks"
   ]
  },
  {
   "cell_type": "markdown",
   "metadata": {},
   "source": [
    "## Hack 1"
   ]
  },
  {
   "cell_type": "markdown",
   "metadata": {},
   "source": [
    "1. It is important to know that algorithms that look different can do the same thing and algorithms that look the same might have differnt results for multiple reason. If you are working with a team you have to understand what their code is saying so you can use it with them. Also it allows you to make different types of code and understand it better making you an even better programmer. \n",
    "2. "
   ]
  },
  {
   "cell_type": "code",
   "execution_count": 20,
   "metadata": {},
   "outputs": [
    {
     "name": "stdout",
     "output_type": "stream",
     "text": [
      "Go to Canes\n"
     ]
    }
   ],
   "source": [
    "isFriday = True\n",
    "isThurday = False\n",
    "\n",
    "#If Statements\n",
    "if isFriday == True:\n",
    "    print(\"Go to Canes\")\n",
    "else:\n",
    "    print(\"It's not Friday and that sucks\")\n",
    "\n",
    "if isThurday == True:\n",
    "    print(\"Go to practice\")"
   ]
  },
  {
   "cell_type": "code",
   "execution_count": 17,
   "metadata": {},
   "outputs": [
    {
     "name": "stdout",
     "output_type": "stream",
     "text": [
      "Do Homework\n"
     ]
    }
   ],
   "source": [
    "# Var\n",
    "isFriday = False\n",
    "isThursday = True\n",
    "# Setting Var\n",
    "doHomework = isThursday or not(isFriday)\n",
    "# If statements\n",
    "if doHomework == False:\n",
    "    print(\"Don't do Homework\")\n",
    "else:\n",
    "    print(\"Do Homework\")"
   ]
  },
  {
   "cell_type": "markdown",
   "metadata": {},
   "source": [
    "## Hacks 2\n",
    "\n",
    "![Flowchart](../images/DrinkFlowchart2.png)"
   ]
  },
  {
   "cell_type": "markdown",
   "metadata": {},
   "source": [
    "### Natural lang\n",
    "- Start\n",
    "- Are you old enought to drink\n",
    "- if not wait a year\n",
    "- do you have money\n",
    "- if not you're poor\n",
    "- if so you get beer"
   ]
  },
  {
   "cell_type": "code",
   "execution_count": 6,
   "metadata": {},
   "outputs": [
    {
     "name": "stdout",
     "output_type": "stream",
     "text": [
      "18\n",
      "19\n",
      "20\n",
      "21\n",
      "Here is your Drink\n"
     ]
    }
   ],
   "source": [
    "age = 17\n",
    "money = 4\n",
    "\n",
    "#When they are under age they wait a year until they are over\n",
    "while age <= 20:\n",
    "    age = age + 1\n",
    "    print(age)\n",
    "if age >= 21:\n",
    "    if money >= 3.99:\n",
    "        print(\"Here is your Drink\")\n",
    "        #if they don't have enough money they will say they are poor\n",
    "    else:\n",
    "        print(\"im poor\")\n"
   ]
  },
  {
   "cell_type": "markdown",
   "metadata": {},
   "source": [
    "## Hack 3"
   ]
  },
  {
   "cell_type": "code",
   "execution_count": 21,
   "metadata": {},
   "outputs": [
    {
     "name": "stdout",
     "output_type": "stream",
     "text": [
      "I'm thinking of a number between 1 and 100.\n",
      "You guessed 50.\n",
      "You guessed too high\n",
      "Guess a number between 0 and 50.\n",
      "You guessed 29.\n",
      "You guessed too low\n",
      "Guess a number between 29 and 50.\n",
      "You guessed 33.\n",
      "You guessed too low\n",
      "Guess a number between 33 and 50.\n",
      "You guessed 40.\n",
      "You guessed too high\n",
      "Guess a number between 33 and 40.\n",
      "You guessed 37.\n",
      "You guessed too high\n",
      "Guess a number between 33 and 37.\n",
      "You guessed 35.\n",
      "You guessed too high\n",
      "Guess a number between 33 and 35.\n",
      "You guessed 34.\n",
      "You guessed the number in 7 guesses!\n"
     ]
    }
   ],
   "source": [
    "import random\n",
    "\n",
    "#sets variables for the game\n",
    "num_guesses = 0\n",
    "user_guess = -1\n",
    "upper_bound = 100\n",
    "lower_bound = 0\n",
    "\n",
    "#generates a random number\n",
    "number = random.randint(0,100)\n",
    "\n",
    "# print(number)     #for testing purposes\n",
    "\n",
    "print(f\"I'm thinking of a number between 1 and 100.\")\n",
    "\n",
    "#Write a function that gets a guess from the user using input()\n",
    "def guess():\n",
    "    #add something here\n",
    "    num = input(\"What is the number you are thinking of?\")\n",
    "    return num #add something here \n",
    "\n",
    "#Change the print statements to give feedback on whether the player guessed too high or too low\n",
    "def search(number, guess):\n",
    "    global lower_bound, upper_bound\n",
    "    if int(guess) < int(number):\n",
    "        print(\"You guessed too low\") #change this\n",
    "        lower_bound = guess\n",
    "        return lower_bound, upper_bound\n",
    "    elif int(guess) > int(number):\n",
    "        print(\"You guessed too high\") #change this\n",
    "        upper_bound = guess\n",
    "        return lower_bound, upper_bound\n",
    "    else:\n",
    "        upper_bound, lower_bound = guess, guess\n",
    "        return lower_bound, upper_bound\n",
    "\n",
    "while user_guess != number:\n",
    "    user_guess = guess()\n",
    "    num_guesses += 1\n",
    "    print(f\"You guessed {user_guess}.\")\n",
    "    lower_bound, upper_bound = search(number, user_guess)\n",
    "    if int(upper_bound) == int(number):\n",
    "        break\n",
    "    else:\n",
    "        print(f\"Guess a number between {lower_bound} and {upper_bound}.\")\n",
    "\n",
    "print(f\"You guessed the number in {num_guesses} guesses!\")"
   ]
  },
  {
   "cell_type": "markdown",
   "metadata": {},
   "source": [
    "##"
   ]
  },
  {
   "cell_type": "markdown",
   "metadata": {},
   "source": [
    "![Flowchart](../images/RandomFlowchart.png)"
   ]
  },
  {
   "cell_type": "markdown",
   "metadata": {},
   "source": [
    "## Hack 4"
   ]
  },
  {
   "cell_type": "code",
   "execution_count": null,
   "metadata": {},
   "outputs": [],
   "source": [
    "index = [12, 14, 43, 57, 79, 80, 99]\n",
    "\n",
    "mid = int(len(index) / 2) \n",
    "print(mid)\n",
    "print(index[mid])"
   ]
  },
  {
   "cell_type": "code",
   "execution_count": null,
   "metadata": {},
   "outputs": [],
   "source": [
    "index = [92, 43, 74, 66, 30, 12, 1]\n",
    "\n",
    "mid = int(len(index) / 2) \n",
    "print(mid)\n",
    "print(index[mid])"
   ]
  },
  {
   "cell_type": "code",
   "execution_count": null,
   "metadata": {},
   "outputs": [],
   "source": [
    "index = [7, 13, 96, 111, 33, 84, 60]\n",
    "\n",
    "mid = int(len(index) / 2) \n",
    "print(mid)\n",
    "print(index[mid])"
   ]
  },
  {
   "cell_type": "markdown",
   "metadata": {},
   "source": [
    "![Flowchart](../images/Chart1.png)\n",
    "![Flowchart](../images/Chart2.png)\n",
    "![Flowchart](../images/Chart3.png)"
   ]
  },
  {
   "cell_type": "markdown",
   "metadata": {},
   "source": [
    "2. Set 1: 80, Set 2: 74, Set 3: 96"
   ]
  },
  {
   "cell_type": "markdown",
   "metadata": {},
   "source": [
    "3. C is unsorted therefore it is correct. "
   ]
  }
 ],
 "metadata": {
  "kernelspec": {
   "display_name": "Python 3.9.12 ('base')",
   "language": "python",
   "name": "python3"
  },
  "language_info": {
   "codemirror_mode": {
    "name": "ipython",
    "version": 3
   },
   "file_extension": ".py",
   "mimetype": "text/x-python",
   "name": "python",
   "nbconvert_exporter": "python",
   "pygments_lexer": "ipython3",
   "version": "3.9.12"
  },
  "orig_nbformat": 4,
  "vscode": {
   "interpreter": {
    "hash": "40d3a090f54c6569ab1632332b64b2c03c39dcf918b08424e98f38b5ae0af88f"
   }
  }
 },
 "nbformat": 4,
 "nbformat_minor": 2
}
