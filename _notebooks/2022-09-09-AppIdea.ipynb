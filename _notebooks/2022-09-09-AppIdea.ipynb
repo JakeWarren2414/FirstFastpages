{
 "cells": [
  {
   "cell_type": "markdown",
   "metadata": {},
   "source": [
    "# App Lab Idea\n",
    "\n",
    "---\n",
    "- Title: App Lab Idea\n",
    "- toc: true\n",
    "- Badges: true\n",
    "- layout: base\n",
    "- comments: True\n",
    "- author: Jake Warren\n",
    "- Categories: [Coding]\n",
    "---"
   ]
  },
  {
   "cell_type": "markdown",
   "metadata": {},
   "source": [
    "# App Lab Idea \n",
    "\n",
    "- My idea for a new app would be a game. In this game the player would customize a car. It would ask a series of questions. First it would ask; What type of car do you want? It would give an option of a truck, SUV, small car, and and convertable. Next it would ask what color do you want it. Eventually when all of the question are done being asked, based on what the player input, a picture of a car would be shown. It would have all of the customizations the player input. "
   ]
  }
 ],
 "metadata": {
  "kernelspec": {
   "display_name": "Python 3.9.12 ('base')",
   "language": "python",
   "name": "python3"
  },
  "language_info": {
   "name": "python",
   "version": "3.9.12"
  },
  "orig_nbformat": 4,
  "vscode": {
   "interpreter": {
    "hash": "40d3a090f54c6569ab1632332b64b2c03c39dcf918b08424e98f38b5ae0af88f"
   }
  }
 },
 "nbformat": 4,
 "nbformat_minor": 2
}
