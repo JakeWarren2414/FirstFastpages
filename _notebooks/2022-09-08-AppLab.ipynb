{
 "cells": [
  {
   "cell_type": "markdown",
   "metadata": {},
   "source": [
    "# App Lab Notes\n",
    "---\n",
    "- title: App Lab Notes\n",
    "- toc: true\n",
    "- comments: true\n",
    "- categories: [Coding]\n",
    "---"
   ]
  },
  {
   "cell_type": "markdown",
   "metadata": {},
   "source": [
    "# Notes\n",
    "- Out test is on Clash Royale\n",
    "- We used on event for most codes\n",
    "- Score is rewarded for getting a question right and taken away for getting it wrong\n",
    "\n",
    "# Link\n",
    "\n",
    "## https://studio.code.org/projects/applab/XrKdcpPzPk4O3m7JoM-nBXh3WYKJlcGoCP75AYGR_Qg"
   ]
  }
 ],
 "metadata": {
  "kernelspec": {
   "display_name": "Python 3.10.6 64-bit",
   "language": "python",
   "name": "python3"
  },
  "language_info": {
   "name": "python",
   "version": "3.10.6"
  },
  "orig_nbformat": 4,
  "vscode": {
   "interpreter": {
    "hash": "aee8b7b246df8f9039afb4144a1f6fd8d2ca17a180786b69acc140d282b71a49"
   }
  }
 },
 "nbformat": 4,
 "nbformat_minor": 2
}
