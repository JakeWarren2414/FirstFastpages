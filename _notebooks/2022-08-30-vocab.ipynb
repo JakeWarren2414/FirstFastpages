{
 "cells": [
  {
   "cell_type": "markdown",
   "metadata": {},
   "source": [
    "# Vocab Notebook\n",
    "- Title: Vocab Notebook\n",
    "- toc: true\n",
    "- Badges: true\n",
    "- comments: True\n",
    "- layout: base\n",
    "- author: Jake Warren\n",
    "- Categories: [.tri 2 learning]\n",
    "---"
   ]
  },
  {
   "cell_type": "markdown",
   "metadata": {},
   "source": [
    "- A bit is the smallest unit of information in a computer, and it has a value of either 0 or 1.\n",
    "A byte is a group of 8 bits, and it is the smallest unit of memory in a computer.\n",
    "- Hexadecimal, also known as hex, is a base-16 number system that is commonly used to represent bytes as a series of two-digit numbers. Each digit in a hexadecimal number can have a value from 0 to 15, which is represented by the digits 0-9 and the letters A-F.\n",
    "- A nibble is a group of 4 bits, and it is half of a byte.\n",
    "- Unsigned integer binary numbers are non-negative integers that are represented using a fixed number of bits. The range of values that can be represented depends on the number of bits used, but it is always greater than or equal to 0 and less than 2^n, where n is the number of bits.\n",
    "- Signed integer binary numbers are integers that can be positive or negative, and they are represented using a fixed number of bits. The range of values that can be represented depends on the number of bits used, but it is always greater than or equal to - 2^(n-1) and less than 2^(n-1), where n is the number of bits.\n",
    "- loating point binary numbers are numbers with decimal points, and they are represented using a fixed number of bits. The range of values that can be represented and the precision of the representation depend on the number of bits used and the format of the floating point number.\n",
    "- A boolean is a binary data abstraction that represents a logical value, either True or False. It is often used to represent the result of a comparison or a conditional \n",
    "- ASCII is a binary data abstraction that represents characters as numbers. It uses 7 bits to represent each character, which allows it to represent a total of 128 different characters.\n",
    "- Unicode is a binary data abstraction that represents characters from most of the world's writing systems. It uses a variable number of bits to represent each character, which allows it to represent a much larger set of characters than ASCII.\n",
    "- RGB is a binary data abstraction that represents colors as a combination of red, green, and blue intensities. Each intensity is represented using 8 bits, which allows for a total of 256 different intensities for each color.\n",
    "- Data compression is the process of reducing the size of data in order to save storage space or transmit it more efficiently.\n",
    "- Lossy data compression is a type of data compression that permanently removes some of the information from the original data in order to reduce its size. This can result in a lower quality representation of the original data, but it can also achieve a higher level of compression.\n",
    "- Lossless data compression is a type of data compression that does not remove any information from the original data. This means that the compressed data can be perfectly reconstructed to exactly match the original data, but the level of compression may be lower than with lossy compression.\n",
    "- A variable is a named storage location in a computer's memory that is used to hold a value. Variables are used to store and manipulate data in a program.\n",
    "- Data types are the classification of different types of data that a variable can hold. Some common data types in Python include integers, floats, strings, and booleans.\n",
    "- Assignment operators are used to assign a value to a variable. In Python, the assignment operator is the equal sign =.\n",
    "- Lists are a data structure that allows you to store and manipulate a sequence of values. Each value in a list is called an element, and you can access an element by its position in the list.\n",
    "- 2D lists are lists that contain other lists as elements. This allows you to create a grid of values, where each row and column can be accessed using its index in the list.\n",
    "- Dictionaries are a data structure that allows you to store and access values using keys instead of indices. This allows you to easily map values to unique keys and access them quickly.\n",
    "- A class is a blueprint for creating objects that have certain attributes and methods. Classes allow you to create complex data structures that can represent real-world objects, such as a person or a car.\n",
    "- An algorithm is a set of instructions for solving a problem. Algorithms are often used to implement programs, and they can be written in any language, including Python.\n",
    "- Sequence is the order in which instructions are executed in a program. In Python, instructions are executed in the order they are written, unless a control flow statement is used to change the order.\n",
    "- Selection is a control flow statement that allows you to choose which instructions to execute based on a certain condition. In Python, the if statement is used for selection.\n",
    "- Iteration is the repetition of a set of instructions until a certain condition is met. In Python, the for and while loops are used for iteration.\n",
    "- An expression is a combination of values, variables, and operators that can be evaluated to produce a result. In Python, expressions are used in many different contexts, such as in an assignment statement or as part of a larger expression.\n",
    "C- omparison operators are used to compare two values and evaluate to a boolean result (True or False). Some common comparison operators in Python include ==, !=, <, >, <=, and >=.\n",
    "- Boolean expressions are expressions that evaluate to a boolean value. In Python, boolean expressions are often used as part of a selection or iteration statement to control the flow of the program.\n",
    "- Truth tables are used to represent the possible outcomes of a boolean expression. A truth table lists all the possible combinations of the operands in a boolean expression, and the corresponding result of the expression for each combination.\n",
    "- Characters are the basic building blocks of strings. In Python, characters are represented as single-character strings.\n",
    "- Strings are sequences of characters, and they are used to represent text in Python. Strings can be created using single or double quotes, and they can be manipulated using a variety of string methods.\n",
    "The length of a string is the number of characters it contains. In Python, you can use the len() function to get the length of a string.\n",
    "- Concatenation is the process of combining two or more strings into a single string. In Python, you can use the + operator to concatenate strings.\n",
    "- Upper and lower refer to the case of the letters in a string. In Python, you can use the upper() and lower() methods to convert a string to all uppercase or all lowercase letters, respectively.\n",
    "- Traversing a string means accessing each character in the string one by one. In Python, you can use a for loop to traverse a string and perform an operation on each character.\n",
    "- The if statement is a selection statement that allows you to execute a block of code if a certain condition is True. In Python, you can use the if statement to control the flow of your program based on a boolean expression.\n",
    "- The elif statement is a conditional statement that allows you to specify additional conditions to check if the if statement's condition is not True. In Python, the elif statement is used in conjunction with the if statement to provide additional checks\n",
    "\n",
    "- Nested selection statements are if statements that are placed inside the code block of another if statement. This allows you to create more complex conditions and execute different code blocks depending on multiple conditions.\n",
    "- In Python, you can use the for loop to iterate over a sequence of elements and perform an operation on each element. The for loop uses the in keyword to specify the sequence to be iterated over, and it uses a variable to represent the current element in each iteration.\n",
    "- The while loop is a type of iteration statement that allows you to repeat a block of code until a certain condition is met. In Python, the while loop uses a boolean expression to determine whether to continue executing the code block or terminate the loop.\n",
    "- The range() function in Python is used to create a sequence of numbers that can be used in a for loop. The range() function takes three arguments: a start value, an end value, and a step value.\n",
    "- You can use a for loop to iterate over a list and perform an operation on each element of the list. In Python, you can use the in keyword to specify the list to be iterated over, and you can use a variable to represent the current element in each iteration.\n",
    "- Combining loops with conditionals allows you to control the flow of the loop based on certain conditions. In Python, you can use the break and continue keywords inside a loop to alter its behavior.\n",
    "- Procedural abstraction is the process of breaking down a large problem into smaller, more manageable problems. In Python, you can use procedures (also called functions) to define a set of instructions that can be called by name and executed as a unit.\n",
    "- A def statement is used to define a procedure in Python. The def statement specifies the name of the procedure and the parameters it takes. The code block inside the def statement defines the instructions that will be executed when the procedure is called.\n",
    "P- arameters are variables that are used to pass information to a procedure. In Python, you can specify the parameters a procedure takes by naming them in the def statement.\n",
    "- Return values are the values that a procedure returns to the caller when it is finished executing. In Python, you can use the return keyword to specify the value that a procedure should return.\n",
    "\n",
    "\n"
   ]
  }
 ],
 "metadata": {
  "kernelspec": {
   "display_name": "Python 3.9.12 ('base')",
   "language": "python",
   "name": "python3"
  },
  "language_info": {
   "name": "python",
   "version": "3.9.12"
  },
  "orig_nbformat": 4,
  "vscode": {
   "interpreter": {
    "hash": "40d3a090f54c6569ab1632332b64b2c03c39dcf918b08424e98f38b5ae0af88f"
   }
  }
 },
 "nbformat": 4,
 "nbformat_minor": 2
}
