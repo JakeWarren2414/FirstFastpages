{
 "cells": [
  {
   "attachments": {},
   "cell_type": "markdown",
   "metadata": {},
   "source": [
    "# 2018 MCQ\n",
    "- title: 2018 MCQ\n",
    "- toc: true\n",
    "- layout: base\n",
    "- badges: true\n",
    "- categories: [. Practice]\n",
    "- description: This is my blog for the 2018 quiz"
   ]
  },
  {
   "attachments": {},
   "cell_type": "markdown",
   "metadata": {},
   "source": [
    "## Questions Missed 61/66\n",
    "\n",
    "![Quiz](../images/2018Quiz.png)\n",
    "\n",
    "1. I got question 5 wrong. I got it wrong because I put B instead of C. This question is asking about code segments accourding to ticket prices. It uses conditionals to sort out the price for ages. What I got confused with is that I put an if else statment instead of making if is3D true. The else statment isn't specific enough for the computer. \n",
    "\n",
    "![Q16](../images/2018Q5.png)\n",
    "\n",
    "2. I got question 35 wrong because I put B instead of C. The question was askign about copy rights. I thought that B was correct because it was talking about a peer ro peer network. I thought that this meant something where the work was shared between a school or something. I thought that they woulnd't flag each other for copy right. The correct answer is D because it says no rights reserved. \n",
    "\n",
    "![Q16](../images/2018Q35.png)\n",
    "\n",
    "3. I got question 37 wrong because I pu B instead of C. It is asking about two code segments and describing them. I thought that code segment 1 didn't display the correct averee because I thought the sum/length was wrong. It was right so segment 1 did display the correct averege. However it does not require more arithmetic operations\n",
    "\n",
    "![Q16](../images/2018Q37.png)\n",
    "\n",
    "4. I got question 56 wrong becasue I put B instead of D. The question was asking about a code segment and desribing the result. i said that the result would be integers 0-20 because the sum starts at 0. But it actually starts at 1. I thought it ended at 20 because it counted by 2 so it couldn't be odd. So D is correct. \n",
    "\n",
    "![Q16](../images/2018Q56.png)\n",
    "\n",
    "5. I got question 64 wrong because I put C and D instead of B and C. I thought that cloud computing has reduced concerns about intellectual property rights because it allows for saved data between multiple devices. However instead, it enhanced collabaration becuase of different devices. \n",
    "\n",
    "![Q16](../images/2018Q64.png)\n",
    "\n"
   ]
  }
 ],
 "metadata": {
  "language_info": {
   "name": "python"
  },
  "orig_nbformat": 4
 },
 "nbformat": 4,
 "nbformat_minor": 2
}
