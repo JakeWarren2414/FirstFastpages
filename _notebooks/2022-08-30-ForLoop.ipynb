{
 "cells": [
  {
   "cell_type": "markdown",
   "metadata": {},
   "source": [
    "# For Loop\n",
    "- Title: For loop\n",
    "- toc: true\n",
    "- Badges: true\n",
    "- comments: True\n",
    "- author: Jake Warren\n",
    "- Categories: [fastpages,juypter]"
   ]
  },
  {
   "cell_type": "code",
   "execution_count": 24,
   "metadata": {},
   "outputs": [],
   "source": [
    "InfoDb = []\n",
    "\n",
    "InfoDb.append({\n",
    "    \"FirstName\": \"Jake\",\n",
    "    \"LastName\": \"Warren\",\n",
    "    \"DOB\": \"September 8\",\n",
    "    \"Residence\": \"San Diego\",\n",
    "    \"FavoriteFood\": \"Burger\",\n",
    "    \"Email\": \"jacobw22751@stu.powayusd.com\",\n",
    "    \"Owns_Cars\": [\"2016-Toyota Tacoma\"]\n",
    "})\n",
    "\n",
    "InfoDb.append({\n",
    "    \"FirstName\": \"Finn\",\n",
    "    \"LastName\": \"Carpenter\",\n",
    "    \"DOB\": \"December 12\",\n",
    "    \"Residence\": \"San Diego\",\n",
    "    \"FavoriteFood\": \"Pizza\",\n",
    "    \"Email\": \"finnc51448@stu.powayusd.com\",\n",
    "    \"Owns_Cars\": [\"2012 Nissan Xterra\"]\n",
    "})\n",
    "\n",
    "InfoDb.append({\n",
    "    \"FirstName\": input(\"Name:\"),\n",
    "    \"LastName\": input(\"LastName:\"),\n",
    "    \"DOB\": input(\"Birthday:\"),\n",
    "    \"Residence\": input(\"Residence:\"),\n",
    "    \"FavoriteFood\": input(\"FavoriteFood:\"),\n",
    "    \"Email\": input(\"Email:\"),\n",
    "    \"Owns_Cars\": input(\"Owns_Cars:\")\n",
    "})"
   ]
  },
  {
   "cell_type": "code",
   "execution_count": 25,
   "metadata": {},
   "outputs": [
    {
     "name": "stdout",
     "output_type": "stream",
     "text": [
      "For loop output\n",
      "\n",
      "Jake Warren\n",
      "\t Residence: San Diego\n",
      "\t FavoriteFood: Burger\n",
      "\t Birth Day: September 8\n",
      "\t Cars: ['2016-Toyota Tacoma']\n",
      "\n",
      "Finn Carpenter\n",
      "\t Residence: San Diego\n",
      "\t FavoriteFood: Pizza\n",
      "\t Birth Day: December 12\n",
      "\t Cars: ['2012 Nissan Xterra']\n",
      "\n",
      "Jake  Warren\n",
      "\t Residence: San Diego\n",
      "\t FavoriteFood: Burger\n",
      "\t Birth Day: September 8\n",
      "\t Cars: Tacoma\n",
      "\n"
     ]
    }
   ],
   "source": [
    "def print_data(d_rec):\n",
    "    print(d_rec[\"FirstName\"], d_rec[\"LastName\"]) \n",
    "    print(\"\\t\", \"Residence:\", d_rec[\"Residence\"]) \n",
    "    print(\"\\t\", \"FavoriteFood:\", d_rec[\"FavoriteFood\"])\n",
    "    print(\"\\t\", \"Birth Day:\", d_rec[\"DOB\"])\n",
    "    print(\"\\t\", \"Cars:\", d_rec[\"Owns_Cars\"]) \n",
    "    print()\n",
    "\n",
    "\n",
    "\n",
    "def for_loop():\n",
    "    print(\"For loop output\\n\")\n",
    "    for record in InfoDb:\n",
    "        print_data(record)\n",
    "\n",
    "for_loop()"
   ]
  },
  {
   "cell_type": "code",
   "execution_count": 12,
   "metadata": {},
   "outputs": [
    {
     "name": "stdout",
     "output_type": "stream",
     "text": [
      "For loop output\n",
      "\n",
      "Jake Warren\n",
      "\t Residence: San Diego\n",
      "\t FavoriteFood: Burger\n",
      "\t DOB: September 8\n",
      "\t Cars: 2016-Toyota Tacoma\n",
      "\n",
      "Finn Carpenter\n",
      "\t Residence: San Diego\n",
      "\t FavoriteFood: Pizza\n",
      "\t DOB: December 12\n",
      "\t Cars: 2012 Nissan Xterra\n",
      "\n",
      "Jake  fd\n",
      "\t Residence: sv\n",
      "\t FavoriteFood: sfv\n",
      "\t DOB: fsdf\n",
      "\t Cars: "
     ]
    },
    {
     "ename": "KeyError",
     "evalue": "'Owns_Cars'",
     "output_type": "error",
     "traceback": [
      "\u001b[0;31m---------------------------------------------------------------------------\u001b[0m",
      "\u001b[0;31mKeyError\u001b[0m                                  Traceback (most recent call last)",
      "\u001b[1;32m/Users/jakewarren/vscode/FirstFastpages/_notebooks/2022-08-30-ForLoop.ipynb Cell 3\u001b[0m in \u001b[0;36m<cell line: 17>\u001b[0;34m()\u001b[0m\n\u001b[1;32m     <a href='vscode-notebook-cell:/Users/jakewarren/vscode/FirstFastpages/_notebooks/2022-08-30-ForLoop.ipynb#W1sZmlsZQ%3D%3D?line=13'>14</a>\u001b[0m     \u001b[39mfor\u001b[39;00m record \u001b[39min\u001b[39;00m InfoDb:\n\u001b[1;32m     <a href='vscode-notebook-cell:/Users/jakewarren/vscode/FirstFastpages/_notebooks/2022-08-30-ForLoop.ipynb#W1sZmlsZQ%3D%3D?line=14'>15</a>\u001b[0m         print_data(record)\n\u001b[0;32m---> <a href='vscode-notebook-cell:/Users/jakewarren/vscode/FirstFastpages/_notebooks/2022-08-30-ForLoop.ipynb#W1sZmlsZQ%3D%3D?line=16'>17</a>\u001b[0m for_loop()\n",
      "\u001b[1;32m/Users/jakewarren/vscode/FirstFastpages/_notebooks/2022-08-30-ForLoop.ipynb Cell 3\u001b[0m in \u001b[0;36mfor_loop\u001b[0;34m()\u001b[0m\n\u001b[1;32m     <a href='vscode-notebook-cell:/Users/jakewarren/vscode/FirstFastpages/_notebooks/2022-08-30-ForLoop.ipynb#W1sZmlsZQ%3D%3D?line=12'>13</a>\u001b[0m \u001b[39mprint\u001b[39m(\u001b[39m\"\u001b[39m\u001b[39mFor loop output\u001b[39m\u001b[39m\\n\u001b[39;00m\u001b[39m\"\u001b[39m)\n\u001b[1;32m     <a href='vscode-notebook-cell:/Users/jakewarren/vscode/FirstFastpages/_notebooks/2022-08-30-ForLoop.ipynb#W1sZmlsZQ%3D%3D?line=13'>14</a>\u001b[0m \u001b[39mfor\u001b[39;00m record \u001b[39min\u001b[39;00m InfoDb:\n\u001b[0;32m---> <a href='vscode-notebook-cell:/Users/jakewarren/vscode/FirstFastpages/_notebooks/2022-08-30-ForLoop.ipynb#W1sZmlsZQ%3D%3D?line=14'>15</a>\u001b[0m     print_data(record)\n",
      "\u001b[1;32m/Users/jakewarren/vscode/FirstFastpages/_notebooks/2022-08-30-ForLoop.ipynb Cell 3\u001b[0m in \u001b[0;36mprint_data\u001b[0;34m(d_rec)\u001b[0m\n\u001b[1;32m      <a href='vscode-notebook-cell:/Users/jakewarren/vscode/FirstFastpages/_notebooks/2022-08-30-ForLoop.ipynb#W1sZmlsZQ%3D%3D?line=4'>5</a>\u001b[0m \u001b[39mprint\u001b[39m(\u001b[39m\"\u001b[39m\u001b[39m\\t\u001b[39;00m\u001b[39m\"\u001b[39m, \u001b[39m\"\u001b[39m\u001b[39mDOB:\u001b[39m\u001b[39m\"\u001b[39m, d_rec[\u001b[39m\"\u001b[39m\u001b[39mDOB\u001b[39m\u001b[39m\"\u001b[39m])\n\u001b[1;32m      <a href='vscode-notebook-cell:/Users/jakewarren/vscode/FirstFastpages/_notebooks/2022-08-30-ForLoop.ipynb#W1sZmlsZQ%3D%3D?line=5'>6</a>\u001b[0m \u001b[39mprint\u001b[39m(\u001b[39m\"\u001b[39m\u001b[39m\\t\u001b[39;00m\u001b[39m\"\u001b[39m, \u001b[39m\"\u001b[39m\u001b[39mCars: \u001b[39m\u001b[39m\"\u001b[39m, end\u001b[39m=\u001b[39m\u001b[39m\"\u001b[39m\u001b[39m\"\u001b[39m) \n\u001b[0;32m----> <a href='vscode-notebook-cell:/Users/jakewarren/vscode/FirstFastpages/_notebooks/2022-08-30-ForLoop.ipynb#W1sZmlsZQ%3D%3D?line=6'>7</a>\u001b[0m \u001b[39mprint\u001b[39m(\u001b[39m\"\u001b[39m\u001b[39m, \u001b[39m\u001b[39m\"\u001b[39m\u001b[39m.\u001b[39mjoin(d_rec[\u001b[39m\"\u001b[39;49m\u001b[39mOwns_Cars\u001b[39;49m\u001b[39m\"\u001b[39;49m]))  \n\u001b[1;32m      <a href='vscode-notebook-cell:/Users/jakewarren/vscode/FirstFastpages/_notebooks/2022-08-30-ForLoop.ipynb#W1sZmlsZQ%3D%3D?line=7'>8</a>\u001b[0m \u001b[39mprint\u001b[39m()\n",
      "\u001b[0;31mKeyError\u001b[0m: 'Owns_Cars'"
     ]
    }
   ],
   "source": [
    "def print_data(d_rec):\n",
    "    print(d_rec[\"FirstName\"], d_rec[\"LastName\"]) \n",
    "    print(\"\\t\", \"Residence:\", d_rec[\"Residence\"]) \n",
    "    print(\"\\t\", \"FavoriteFood:\", d_rec[\"FavoriteFood\"])\n",
    "    print(\"\\t\", \"Birth Day:\", d_rec[\"DOB\"])\n",
    "    print(\"\\t\", \"Cars: \", end=\"\") \n",
    "    print(\", \".join(d_rec[\"Owns_Cars\"]))  \n",
    "    print()\n",
    "\n",
    "\n",
    "\n",
    "def for_loop():\n",
    "    print(\"For loop output\\n\")\n",
    "    for record in InfoDb:\n",
    "        print_data(record)\n",
    "\n",
    "for_loop()"
   ]
  },
  {
   "cell_type": "code",
   "execution_count": 15,
   "metadata": {},
   "outputs": [
    {
     "name": "stdout",
     "output_type": "stream",
     "text": [
      "Hello Jake\n",
      "Is the sky blue\n",
      "a. Yes\n",
      "b. No\n",
      "correct\n",
      "1 point\n",
      "How many states are there in the US?\n",
      "a. 45\n",
      "b. 50\n",
      "c. 100\n",
      "wrong\n"
     ]
    }
   ],
   "source": [
    "\n",
    "q1 = \"\"\"Is the sky blue\n",
    "a. Yes\n",
    "b. No\"\"\"\n",
    "\n",
    "q2 = \"\"\"How many states are there in the US?\n",
    "a. 45\n",
    "b. 50\n",
    "c. 100\"\"\"\n",
    "\n",
    "\n",
    "questions = {q1:\"a\",q2:\"b\"}\n",
    "name = input(\"enter your name:\")\n",
    "print(\"Hello\", name)\n",
    "score = 0\n",
    "for i in questions:\n",
    "    print(i)\n",
    "    ans = input(\"enter the answer: (a/b):\")\n",
    "    if ans==questions[i]:\n",
    "        print(\"correct\")\n",
    "        score=score+1\n",
    "        print(score, \"point\")\n",
    "    else:\n",
    "        print(\"wrong\")"
   ]
  }
 ],
 "metadata": {
  "kernelspec": {
   "display_name": "Python 3.10.6 64-bit",
   "language": "python",
   "name": "python3"
  },
  "language_info": {
   "codemirror_mode": {
    "name": "ipython",
    "version": 3
   },
   "file_extension": ".py",
   "mimetype": "text/x-python",
   "name": "python",
   "nbconvert_exporter": "python",
   "pygments_lexer": "ipython3",
   "version": "3.10.6"
  },
  "orig_nbformat": 4,
  "vscode": {
   "interpreter": {
    "hash": "aee8b7b246df8f9039afb4144a1f6fd8d2ca17a180786b69acc140d282b71a49"
   }
  }
 },
 "nbformat": 4,
 "nbformat_minor": 2
}
