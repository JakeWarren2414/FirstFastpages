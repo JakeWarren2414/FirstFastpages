{
 "cells": [
  {
   "cell_type": "code",
   "execution_count": 3,
   "metadata": {},
   "outputs": [],
   "source": [
    "InfoDb = []\n",
    "\n",
    "InfoDb.append({\n",
    "    \"FirstName\": \"Jake\",\n",
    "    \"LastName\": \"Warren\",\n",
    "    \"DOB\": \"September 8\",\n",
    "    \"Residence\": \"San Diego\",\n",
    "    \"Email\": \"jacobw22751@stu.powayusd.com\",\n",
    "    \"Owns_Cars\": [\"2016-Toyota Tacoma\"]\n",
    "})"
   ]
  },
  {
   "cell_type": "code",
   "execution_count": 4,
   "metadata": {},
   "outputs": [
    {
     "name": "stdout",
     "output_type": "stream",
     "text": [
      "For loop output\n",
      "\n",
      "Jake Warren\n",
      "\t Residence: San Diego\n",
      "\t Birth Day: September 8\n",
      "\t Cars: 2016-Toyota Tacoma\n",
      "\n"
     ]
    }
   ],
   "source": [
    "def print_data(d_rec):\n",
    "    print(d_rec[\"FirstName\"], d_rec[\"LastName\"]) \n",
    "    print(\"\\t\", \"Residence:\", d_rec[\"Residence\"]) \n",
    "    print(\"\\t\", \"Birth Day:\", d_rec[\"DOB\"])\n",
    "    print(\"\\t\", \"Cars: \", end=\"\") \n",
    "    print(\", \".join(d_rec[\"Owns_Cars\"]))  \n",
    "    print()\n",
    "\n",
    "\n",
    "\n",
    "def for_loop():\n",
    "    print(\"For loop output\\n\")\n",
    "    for record in InfoDb:\n",
    "        print_data(record)\n",
    "\n",
    "for_loop()"
   ]
  }
 ],
 "metadata": {
  "kernelspec": {
   "display_name": "Python 3.10.6 64-bit",
   "language": "python",
   "name": "python3"
  },
  "language_info": {
   "codemirror_mode": {
    "name": "ipython",
    "version": 3
   },
   "file_extension": ".py",
   "mimetype": "text/x-python",
   "name": "python",
   "nbconvert_exporter": "python",
   "pygments_lexer": "ipython3",
   "version": "3.10.6"
  },
  "orig_nbformat": 4,
  "vscode": {
   "interpreter": {
    "hash": "aee8b7b246df8f9039afb4144a1f6fd8d2ca17a180786b69acc140d282b71a49"
   }
  }
 },
 "nbformat": 4,
 "nbformat_minor": 2
}
