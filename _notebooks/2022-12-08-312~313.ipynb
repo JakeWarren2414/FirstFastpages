{
 "cells": [
  {
   "cell_type": "markdown",
   "metadata": {},
   "source": [
    "## 3.12 and 3.13- Calling Procedures/Developing Procedures\n",
    "- title: 3.12 and 3.13- Deveoping Algorithms/Binary Search"
   ]
  },
  {
   "cell_type": "markdown",
   "metadata": {},
   "source": [
    "## 3.12/3.13- Calling Procedures/Developing Procedures\n",
    "- A procedure is a named set of instructions that can take in parameters and return values.\n",
    "    - May be called \"method\" or \"function\" in different programming languages.\n",
    "- Parameters are independent variables used in the procedure to produce a result. It allows a procedure to execute without initially knowing specific input values.\n",
    "- To call a procedure you would write the name of the procedure followed by the parentheses with the parameters of the procedure\n",
    "- Procedures do not require parameters, but the parentheses must be there\n",
    "- Return values are \n",
    "- A return statement exits a function and instructs python to continue executing the program and to return a certain value\n",
    "- Value can be string, a tuple, or any other type that is being sent back to the main program \n",
    "- Modularity - the practice of breaking a complex program into smaller, independent parts or modules that can be used and reused in different parts of the program\n",
    "- Abstraction - the practice of hiding the details of how a particular code or system works and exposing only the essential features or functions that are necessary for other parts of the program to use\n",
    "- Duplication - having multiple duplicate code blocks, often decreasing readability and efficiency\n",
    "- Logic - the sequence of steps and operations that a computer follows to execute a program, including the specific instructions and decision-making processes built into the code\n",
    "- Procedure- a module of code that is created to complete a certain task, this is basically a function\n",
    "- Procedure Name- the name that is given to a function/procedure\n",
    "- Parameters- a variable that is used in a function to allow for data to be imported into a function\n",
    "- Arguments- a way to provide information to a function, usually defined outside a function and then imported into a function with parameters\n",
    "- "
   ]
  },
  {
   "cell_type": "markdown",
   "metadata": {},
   "source": [
    "# Hacks\n",
    "## Hack 1\n",
    "1. Procede an algorithm or a set of instrucions that is named something and can take in parameter/return values. A parameter is one of the variables in a procedure. It does not require an input value\n",
    "2. \n",
    "3. Return Values are the output value of a variable that was defined through a math equation. Output parameters are  \n"
   ]
  },
  {
   "cell_type": "code",
   "execution_count": null,
   "metadata": {},
   "outputs": [],
   "source": []
  },
  {
   "cell_type": "markdown",
   "metadata": {},
   "source": [
    "## Hacks 2\n",
    "1. "
   ]
  },
  {
   "cell_type": "markdown",
   "metadata": {},
   "source": []
  },
  {
   "cell_type": "markdown",
   "metadata": {},
   "source": []
  }
 ],
 "metadata": {
  "kernelspec": {
   "display_name": "Python 3.9.12 ('base')",
   "language": "python",
   "name": "python3"
  },
  "language_info": {
   "name": "python",
   "version": "3.9.12"
  },
  "orig_nbformat": 4,
  "vscode": {
   "interpreter": {
    "hash": "40d3a090f54c6569ab1632332b64b2c03c39dcf918b08424e98f38b5ae0af88f"
   }
  }
 },
 "nbformat": 4,
 "nbformat_minor": 2
}
