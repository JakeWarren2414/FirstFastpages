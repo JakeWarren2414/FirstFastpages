{
 "cells": [
  {
   "cell_type": "markdown",
   "metadata": {},
   "source": [
    "## 3.12 and 3.13- Calling Procedures/Developing Procedures\n",
    "- title: 3.12 and 3.13- Calling Procedures/Developing Procedures\n",
    "- toc: true\n",
    "- badges: true\n",
    "- categories: [.tri 2 learning]"
   ]
  },
  {
   "cell_type": "markdown",
   "metadata": {},
   "source": [
    "## 3.12/3.13- Calling Procedures/Developing Procedures\n",
    "- A procedure is a named set of instructions that can take in parameters and return values.\n",
    "    - May be called \"method\" or \"function\" in different programming languages.\n",
    "- Parameters are independent variables used in the procedure to produce a result. It allows a procedure to execute without initially knowing specific input values.\n",
    "- To call a procedure you would write the name of the procedure followed by the parentheses with the parameters of the procedure\n",
    "- Procedures do not require parameters, but the parentheses must be there\n",
    "- Return values are \n",
    "- A return statement exits a function and instructs python to continue executing the program and to return a certain value\n",
    "- Value can be string, a tuple, or any other type that is being sent back to the main program \n",
    "- Modularity - the practice of breaking a complex program into smaller, independent parts or modules that can be used and reused in different parts of the program\n",
    "- Abstraction - the practice of hiding the details of how a particular code or system works and exposing only the essential features or functions that are necessary for other parts of the program to use\n",
    "- Duplication - having multiple duplicate code blocks, often decreasing readability and efficiency\n",
    "- Logic - the sequence of steps and operations that a computer follows to execute a program, including the specific instructions and decision-making processes built into the code\n",
    "- Procedure- a module of code that is created to complete a certain task, this is basically a function\n",
    "- Procedure Name- the name that is given to a function/procedure\n",
    "- Parameters- a variable that is used in a function to allow for data to be imported into a function\n",
    "- Arguments- a way to provide information to a function, usually defined outside a function and then imported into a function with parameters\n",
    "- "
   ]
  },
  {
   "cell_type": "markdown",
   "metadata": {},
   "source": [
    "# Hacks\n",
    "## Hack 1\n",
    "1. Procede an algorithm or a set of instrucions that is named something and can take in parameter/return values. A parameter is one of the variables in a procedure. It does not require an input value\n",
    "2. ![Flowchart](../images/312Quiz.png)\n",
    "3. Return Values are the output value of a variable that was defined through a math equation. Output parameters are  the output that is shown after a piece of code has been completed\n",
    "4. "
   ]
  },
  {
   "cell_type": "code",
   "execution_count": 1,
   "metadata": {},
   "outputs": [
    {
     "name": "stdout",
     "output_type": "stream",
     "text": [
      "sqrt( 4 ) =  2.0\n"
     ]
    }
   ],
   "source": [
    "from math import sqrt\n",
    "\n",
    "def find_sqrt(num):\n",
    "    result = sqrt(num)\n",
    "    return result\n",
    "\n",
    "input = int(input())\n",
    "result = find_sqrt(input)\n",
    "\n",
    "print(\"sqrt(\", input, \") = \", result)"
   ]
  },
  {
   "cell_type": "markdown",
   "metadata": {},
   "source": []
  },
  {
   "cell_type": "markdown",
   "metadata": {},
   "source": [
    "1. Abstracting away your program logic into seperate, modular functions is effective because it makes the code much easier to understand. Coding becomes much more organized and overall more functional. "
   ]
  },
  {
   "cell_type": "code",
   "execution_count": 1,
   "metadata": {},
   "outputs": [
    {
     "name": "stdout",
     "output_type": "stream",
     "text": [
      "Question:  What shirt are you going to wear?\n",
      "Your response:  jeans\n",
      "Question:  What pants are you going to wear?\n",
      "Your response:  jacket\n",
      "Question:  What hat are you going to wear\n",
      "Your response:  beanie\n",
      "jeans The weather is nice\n",
      "jacket The weather is nice\n",
      "beanie The weather is nice\n"
     ]
    }
   ],
   "source": [
    "questionnumber = 3\n",
    "clothes= []\n",
    "questions = [\n",
    "    \"What shirt are you going to wear?\",\n",
    "    \"What pants are you going to wear?\",\n",
    "    \"What hat are you going to wear\"\n",
    "]\n",
    "\n",
    "def clothesask(question):\n",
    "    print(\"Question: \", question)\n",
    "    response = input()\n",
    "    print(\"Your response: \", response)\n",
    "    clothes.append(response)\n",
    "\n",
    "for number in range(questionnumber):\n",
    "    clothesask(questions[number])\n",
    "\n",
    "for i in clothes:\n",
    "    if i == \"Jacket\" or i == \"Jeans\" or i == \"Beanie\":\n",
    "        print(i, \"It must be cold\")\n",
    "    elif i == \"T-Shirt\" or i == \"Shorts\" or i == \"Baseball Hat\":\n",
    "        print(i, \"It must be hot\")\n",
    "    else:\n",
    "        print(i, \"The weather is nice\")"
   ]
  },
  {
   "cell_type": "markdown",
   "metadata": {},
   "source": [
    "This code above is using abstraction made me able to combine the outputs of different input to make the code more lazy and easy to program. This is very important for large projects. "
   ]
  },
  {
   "cell_type": "code",
   "execution_count": 3,
   "metadata": {},
   "outputs": [
    {
     "name": "stdout",
     "output_type": "stream",
     "text": [
      "Words starting with a: 1\n",
      "Words starting with d: 1\n",
      "Words starting with k : 0\n",
      "\n",
      "Checking all letters of alphabet:\n",
      "Words starting with a : 1\n",
      "Words starting with c : 1\n",
      "Words starting with d : 1\n",
      "Words starting with i : 2\n",
      "Words starting with s : 1\n",
      "Words starting with t : 4\n",
      "Words starting with y : 1\n"
     ]
    }
   ],
   "source": [
    "import string\n",
    "\n",
    "def split_string(s):\n",
    "   \n",
    "    words = s.split(\" \")\n",
    "\n",
    "\n",
    "    new_words = []\n",
    "    for word in words:\n",
    "        if word != \"\":\n",
    "           \n",
    "            new_words.append(word)\n",
    "    \n",
    "    return words\n",
    "\n",
    "\n",
    "def count_words_starting_with_letter(words, letter):\n",
    "    count = 0\n",
    "    \n",
    "   \n",
    "    for word in words:\n",
    "\n",
    "        if word.lower().startswith(letter):\n",
    "            count += 1\n",
    "    \n",
    "    return count\n",
    "\n",
    "\n",
    "def count_words_starting_with_a_in_string(s):\n",
    "    \n",
    "    words = split_string(s)\n",
    "    \n",
    "  \n",
    "    count = count_words_starting_with_letter(words, \"a\")\n",
    "    \n",
    "    return count\n",
    "\n",
    "def count_words_starting_with_d_in_string(s):\n",
    "    words = split_string(s)\n",
    "    count = count_words_starting_with_letter(words, \"d\")\n",
    "    return count \n",
    "\n",
    "letter_tested = input(\"What letter would you like to count?\")\n",
    "def count_words_starting_with_input_in_string(s):\n",
    "    words = split_string(s)\n",
    "    count = count_words_starting_with_letter(words, letter_tested)\n",
    "    return count\n",
    "\n",
    "def count_words_starting_with_letter_in_string(s):\n",
    "    words = split_string(s)\n",
    "    count_dictionary = {}\n",
    "    for c in string.ascii_lowercase:\n",
    "        count_dictionary[c] = count_words_starting_with_letter(words, c)\n",
    "    return count_dictionary\n",
    "\n",
    "\n",
    "\n",
    "s = \"   This is  a  test  string! Don't you think this is cool? \"\n",
    "a_count = count_words_starting_with_a_in_string(s)\n",
    "d_count = count_words_starting_with_d_in_string(s)\n",
    "letter_count = count_words_starting_with_input_in_string(s)\n",
    "count_dictionary_print = count_words_starting_with_letter_in_string(s)\n",
    "print(\"Words starting with a:\", a_count)\n",
    "print(\"Words starting with d:\", d_count)\n",
    "print(\"Words starting with\", letter_tested,\":\", letter_count)\n",
    "print(\"\\nChecking all letters of alphabet:\")\n",
    "for letter in count_dictionary_print:\n",
    "    if count_dictionary_print[letter] != 0:\n",
    "        print(\"Words starting with\", letter,\":\", count_dictionary_print[letter])"
   ]
  },
  {
   "cell_type": "markdown",
   "metadata": {},
   "source": [
    "## Hacks 3\n",
    "1. Procedure Names are the names that are used to call a function or define a function. It overall makes the code much more organized. Arguments are inputs that are used to outide the function and then they are called with the function with parameters. \n",
    "2.  \n",
    "<p>Addition</p>\n",
    "<input type=\"number\" id=\"num1\">\n",
    "<input type=\"number\" id=\"num2\">\n",
    "<button onclick=\"addNumbers()\">Add numbers</button>\n",
    "<p id=\"result1\"></p>\n",
    "<script>\n",
    "      function addNumbers() {\n",
    "        // Get the values of the two numbers\n",
    "        var num1 = document.getElementById(\"num1\").value;\n",
    "        var num2 = document.getElementById(\"num2\").value;\n",
    "        // Convert the values to numbers\n",
    "        num1 = Number(num1);\n",
    "        num2 = Number(num2);\n",
    "        // Add the numbers together\n",
    "        var result = num1 + num2;\n",
    "        // Display the result on the page\n",
    "        document.getElementById(\"result1\").innerHTML = result;\n",
    "      }\n",
    "</script>\n",
    "\n",
    "<p>Subtraction</p>\n",
    "<input type=\"number\" id=\"num3\">\n",
    "<input type=\"number\" id=\"num4\">\n",
    "<button onclick=\"minusNumbers()\">Minus Numbers</button>\n",
    "<p id=\"result2\"></p>\n",
    "<script>\n",
    "    function minusNumbers() {\n",
    "    // Get the values of the two numbers\n",
    "    var num3 = document.getElementById(\"num3\").value;\n",
    "    var num4 = document.getElementById(\"num4\").value;\n",
    "    // Convert the values to numbers\n",
    "    num3 = Number(num3);\n",
    "    num4 = Number(num4);\n",
    "    // Add the numbers together\n",
    "    var result = num3 - num4;\n",
    "    // Display the result on the page\n",
    "    document.getElementById(\"result2\").innerHTML = result;\n",
    "    }\n",
    "</script>\n",
    "\n",
    "<p>Multiply</p>\n",
    "<input type=\"number\" id=\"num5\">\n",
    "<input type=\"number\" id=\"num6\">\n",
    "<button onclick=\"multiNumbers()\">Multiply Numbers</button>\n",
    "<p id=\"result3\"></p>\n",
    "<script>\n",
    "    function multiNumbers() {\n",
    "    // Get the values of the two numbers\n",
    "    var num5 = document.getElementById(\"num5\").value;\n",
    "    var num6 = document.getElementById(\"num6\").value;\n",
    "    // Convert the values to numbers\n",
    "    num5 = Number(num5);\n",
    "    num6 = Number(num6);\n",
    "    // Add the numbers together\n",
    "    var result = num5 * num6;\n",
    "    // Display the result on the page\n",
    "    document.getElementById(\"result3\").innerHTML = result;\n",
    "    }\n",
    "</script>\n",
    "\n",
    "<p>Divide</p>\n",
    "<input type=\"number\" id=\"num7\">\n",
    "<input type=\"number\" id=\"num8\">\n",
    "<button onclick=\"diviNumbers()\">Divide Numbers</button>\n",
    "<p id=\"resul\"></p>\n",
    "<script>\n",
    "    function diviNumbers() {\n",
    "    // Get the values of the two numbers\n",
    "    var num7 = document.getElementById(\"num7\").value;\n",
    "    var num8 = document.getElementById(\"num8\").value;\n",
    "    // Convert the values to numbers\n",
    "    num7 = Number(num7);\n",
    "    num8 = Number(num8);\n",
    "    // Add the numbers together\n",
    "    var result = num7 / num8;\n",
    "    // Display the result on the page\n",
    "    document.getElementById(\"resul\").innerHTML = result;\n",
    "    }\n",
    "</script>"
   ]
  },
  {
   "cell_type": "markdown",
   "metadata": {},
   "source": [
    "# Vocab\n",
    "\n",
    "- Parameter: A characteristic or value that describes a particular aspect of something.\n",
    "- Modularity: The degree to which a system, such as a computer program, is composed of distinct, independent units that can be developed, tested, and maintained separately.\n",
    "- Abstraction: The ability to focus on essential features of an object or system, while ignoring or hiding unnecessary details.\n",
    "- Duplication: The occurrence of multiple copies of the same code, data, or other elements in a system.\n",
    "- Arguments: a piece of information that is passed to a function, procedure, or program when it is called or invoked."
   ]
  },
  {
   "cell_type": "code",
   "execution_count": 7,
   "metadata": {},
   "outputs": [
    {
     "name": "stdout",
     "output_type": "stream",
     "text": [
      "15\n"
     ]
    }
   ],
   "source": [
    "# Parameter\n",
    "def add(x: int, y: int) -> int:\n",
    "  return x + y\n",
    "\n",
    "result = add(5, 10)\n",
    "print(result)"
   ]
  },
  {
   "cell_type": "code",
   "execution_count": 13,
   "metadata": {},
   "outputs": [
    {
     "name": "stdout",
     "output_type": "stream",
     "text": [
      "Bark\n",
      "Meow\n"
     ]
    }
   ],
   "source": [
    "# Abstraction\n",
    "from abc import ABC, abstractmethod\n",
    "\n",
    "class Animal(ABC):\n",
    "  @abstractmethod\n",
    "  def make_sound(self):\n",
    "    pass\n",
    "\n",
    "class Dog(Animal):\n",
    "  def make_sound(self):\n",
    "    print(\"Bark\")\n",
    "\n",
    "class Cat(Animal):\n",
    "  def make_sound(self):\n",
    "    print(\"Meow\")\n",
    "\n",
    "dog = Dog()\n",
    "dog.make_sound()  \n",
    "\n",
    "cat = Cat()\n",
    "cat.make_sound() "
   ]
  },
  {
   "cell_type": "code",
   "execution_count": 14,
   "metadata": {},
   "outputs": [
    {
     "name": "stdout",
     "output_type": "stream",
     "text": [
      "50\n",
      "100\n",
      "100\n"
     ]
    }
   ],
   "source": [
    "# Abstraction/Duplication\n",
    "def calculate_area(width: float, height: float) -> float:\n",
    "  return width * height\n",
    "\n",
    "def calculate_volume(width: float, height: float, depth: float) -> float:\n",
    "  return width * height * depth\n",
    "\n",
    "\n",
    "area = calculate_area(10, 5)\n",
    "print(area) \n",
    "\n",
    "\n",
    "volume = calculate_volume(10, 5, 2)\n",
    "print(volume)\n",
    "\n",
    "\n",
    "volume = calculate_volume(width=10, height=5, depth=2)\n",
    "print(volume)  "
   ]
  }
 ],
 "metadata": {
  "kernelspec": {
   "display_name": "Python 3.9.12 ('base')",
   "language": "python",
   "name": "python3"
  },
  "language_info": {
   "codemirror_mode": {
    "name": "ipython",
    "version": 3
   },
   "file_extension": ".py",
   "mimetype": "text/x-python",
   "name": "python",
   "nbconvert_exporter": "python",
   "pygments_lexer": "ipython3",
   "version": "3.9.12"
  },
  "orig_nbformat": 4,
  "vscode": {
   "interpreter": {
    "hash": "40d3a090f54c6569ab1632332b64b2c03c39dcf918b08424e98f38b5ae0af88f"
   }
  }
 },
 "nbformat": 4,
 "nbformat_minor": 2
}
