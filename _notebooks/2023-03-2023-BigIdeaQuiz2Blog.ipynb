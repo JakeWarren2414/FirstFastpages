{
 "cells": [
  {
   "attachments": {},
   "cell_type": "markdown",
   "metadata": {},
   "source": [
    "# Big Idea Quiz 2\n",
    "- title: Big Idea Quiz 2\n",
    "- toc: true\n",
    "- layout: base\n",
    "- badges: true\n",
    "- categories: [. Practice]\n",
    "- description: This is my blog for the Big Idea Quiz 2"
   ]
  },
  {
   "attachments": {},
   "cell_type": "markdown",
   "metadata": {},
   "source": [
    "# Missed Questions\n",
    "\n",
    "1. I got question 21 wrong. I put answers C and B when the real answers were B and D. The question was asking for the steps that can be used to identify the desired entry for a spreadsheet. The steps were to find the oldest photographs from the spreadsheet. B was correct because it filtered by photographer to get rid of all the unknown photographers, then it filtered by year to get rid of unknown years like -1. Finally it sorts to find the year. D would be correct because it sorts by year to sort the dates properly then it filters everything out. C and A are incorrect because there is no need to sort by subject. \n",
    "\n",
    "![Q21](../images/Q212.png)\n",
    "\n",
    "![Q21](../images/Q211.png)\n",
    "\n",
    "\n",
    "2. I got question 25 wrong. I put D when the correct option is C. The question was asking how much of an increase would 11101000 be from 11101 in binary. I put D because I was thinking in normal number terms and how they go up by 10 every time. Three digits would equal 1000. However, in binary adding 0s just adds an exponent to 2 so 2^3=8\n",
    "\n",
    "\n",
    "![Q25](../images/Q25.png)"
   ]
  }
 ],
 "metadata": {
  "language_info": {
   "name": "python"
  },
  "orig_nbformat": 4
 },
 "nbformat": 4,
 "nbformat_minor": 2
}
