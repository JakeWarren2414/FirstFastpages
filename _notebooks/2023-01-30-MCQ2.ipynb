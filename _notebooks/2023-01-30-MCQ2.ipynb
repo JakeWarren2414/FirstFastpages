{
 "cells": [
  {
   "cell_type": "markdown",
   "metadata": {},
   "source": [
    "# MCQ 2 Blog\n",
    "- title: MCQ 2 Blog\n",
    "- toc: true\n",
    "- badges: true\n",
    "- layout: base\n",
    "- categories: [. Practice]\n",
    "- description: This is my reflection on all of the questions I got wrong in my MCQ test."
   ]
  },
  {
   "cell_type": "markdown",
   "metadata": {},
   "source": [
    "## Score\n",
    "![Score](../images/MCQ2.png)\n",
    "\n",
    "## Test Corrections\n",
    "\n",
    "17. Question 17 was a multiple choice question. I chose A and B but the correct answer was A and D. The reason B is wrong is because it is essentially making an \"or statement\" when it was supposed to be an \"and statement.\" Due to the fact that the \"if not\" is out side of the \"if\" block, means either can be true and not both. D simplfies this with an else statment. \n",
    "\n",
    "![Score](../images/Question172.png)\n",
    "![Score](../images/Question17.png)\n",
    "\n",
    "27. Question 27 was another robot equation. I answered C and the correct answer was D. The reason C is wrong is because the \"N+1\" is at the beggining of the loop. This means that on its first move it will already be thrown off of its course. D makes the \"N+1\" statement at the end completeing the path. i think I got this wrong because I was reading it a little fast and C just \"seemed\" right but I didn't pay too much attention. I chose A and B but B and C were correct. \n",
    "\n",
    "![Score](../images/Question27.png)\n",
    "![Score](../images/Question26.png)\n",
    "\n",
    "30. Question 30 was a multiple choise question that asked me to draw an image on a graph in two different ways. The reason A is incorrect is because it dras the circle before it changes the y value. This equation ould have made every circle one y space lower making it not match the graph. My thinking was that it didn't start drawing the circle from the center rather the bottom. \n",
    "\n",
    "![Score](../images/Question301.png)\n",
    "![Score](../images/Question302.png)\n",
    "\n",
    "49. Question 49 was asking about if an algorithm can solve every possible problem or input. I said yes that Every problem can be solved with an algorithm for all possible inputs, but some of these algorithms have not been discovered yet or C. however the right answer was there exist problems that no algorithm will ever be able to solve for all possible inputs or D. I thought that every problem had an infinite number of problems but the only reason that we can't solve them is because it is impossible to find infinite. However the real solution is that some problems don't have an answer for certain inputs. \n",
    "\n",
    "![Score](../images/Question49.png)"
   ]
  }
 ],
 "metadata": {
  "language_info": {
   "name": "python"
  },
  "orig_nbformat": 4
 },
 "nbformat": 4,
 "nbformat_minor": 2
}
