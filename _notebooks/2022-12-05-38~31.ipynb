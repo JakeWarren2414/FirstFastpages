{
 "cells": [
  {
   "cell_type": "markdown",
   "metadata": {},
   "source": [
    "# 3.8/3.10- Iteration/Lists\n",
    "\n",
    "- title: 3.8-3.10- Iteration/Lists\n",
    "- toc: true\n",
    "- badges: true\n",
    "- categories: [.tri 2 learning]"
   ]
  },
  {
   "cell_type": "markdown",
   "metadata": {},
   "source": [
    "## 3.8-3.10- Iteration/Lists\n",
    "- Iteration: a repeating portion of an algorithm, repeats a specified number of times or until a given condition is met\n",
    "- Iteration Statement: change the sequential flow of control by repeating a set of statements zero or more times, until a stopping condition is met\n",
    "- Repeat Until: if the condition evaluates to true initially, the loop body is not executed at all, due to the condition being checked before the loop\n",
    "-  We can use stopping conditions to stop an iteration if a condition is already met\n",
    "- Iteration Statement - cause statements to be executed zero or more times, subject to some loop-termination criteria\n",
    "- The two different types of loops are for loops and while loops\n",
    "- The break command stops the list at the designated value\n",
    "- Traversing a list is the process of visiting each element in a list in a sequential order. It can be used to access, search for, and modify elements in the list. \n",
    "- Complete Traversal: All elements in a list are assessed \n",
    "- Partial Traversal: Only a given portion of elements are assessed\n",
    "- Iterative Traversal: When loops are used to iterate through a list and to access each single element at a time.\n"
   ]
  },
  {
   "cell_type": "markdown",
   "metadata": {},
   "source": [
    "## Hack 3.8.1\n",
    "1. Iteration: A loop in a piece of code that repeats intself until a certain condition is met\n",
    "2. A college searching app. Serach the college you are looking for on the website. Ask if has the major you want. If not then repeat serach if it does procede. Ask if the tuition is expensive. Ff it is repeat serach if it is not then complete code. \n"
   ]
  },
  {
   "cell_type": "code",
   "execution_count": 9,
   "metadata": {},
   "outputs": [
    {
     "name": "stdout",
     "output_type": "stream",
     "text": [
      "Bengals are not Saints\n",
      "Cowboys are not Saints\n",
      "Texans are not Saints\n",
      "Saints is found\n"
     ]
    }
   ],
   "source": [
    "teams = [\"Bengals\", \"Cowboys\", \"Texans\", \"Saints\"]\n",
    "for i in teams:\n",
    "    if i == \"Saints\":\n",
    "        print(i + \" is found\")\n",
    "        break\n",
    "    else:  \n",
    "        print(i + \" are not Saints\")"
   ]
  },
  {
   "cell_type": "markdown",
   "metadata": {},
   "source": [
    "\n",
    "## Hack 3.8.2 \n",
    "\n",
    "1. An Iteration statment is like an iteration but still different. It repeats a loop until this loop is commanded to stop by a condition. It stops intead of proceeding. \n"
   ]
  },
  {
   "cell_type": "code",
   "execution_count": 17,
   "metadata": {},
   "outputs": [
    {
     "name": "stdout",
     "output_type": "stream",
     "text": [
      "10\n",
      "9\n",
      "8\n",
      "7\n",
      "6\n",
      "5\n",
      "4\n",
      "3\n",
      "2\n",
      "1\n"
     ]
    }
   ],
   "source": [
    "for i in reversed(range(1,11)):\n",
    "        print(i)"
   ]
  },
  {
   "cell_type": "code",
   "execution_count": 23,
   "metadata": {},
   "outputs": [
    {
     "name": "stdout",
     "output_type": "stream",
     "text": [
      "3\n",
      "16\n",
      "29\n",
      "42\n",
      "55\n",
      "68\n",
      "81\n"
     ]
    }
   ],
   "source": [
    "numbers = 0 \n",
    "n = 1\n",
    "while numbers < 80:\n",
    "    numbers = 3+(n-1)*13\n",
    "    n = n + 1\n",
    "    print(numbers)"
   ]
  },
  {
   "cell_type": "markdown",
   "metadata": {},
   "source": [
    "## Section 10 Notes"
   ]
  },
  {
   "cell_type": "code",
   "execution_count": 24,
   "metadata": {},
   "outputs": [
    {
     "name": "stdout",
     "output_type": "stream",
     "text": [
      "40\n"
     ]
    }
   ],
   "source": [
    "nums = [10, 15, 20, 25, 30, 35]\n",
    "mnums = min(nums)\n",
    "for i in nums:\n",
    "    if i > mnums:\n",
    "        mnums = mnums + 5\n",
    "    else:\n",
    "        mnums = mnums + 5\n",
    "print(mnums)"
   ]
  },
  {
   "cell_type": "markdown",
   "metadata": {},
   "source": [
    "![Quiz](../images/Unit10Quiz.png)"
   ]
  },
  {
   "cell_type": "markdown",
   "metadata": {},
   "source": [
    "## Vocab\n",
    "- Iteration Statements: change the sequential flow of control by repeating a set of statements zero or more times, until a stopping condition is met\n",
    "- Repeat Until: if the condition evaluates to true initially, the loop body is not executed at all, due to the condition being checked before the loop\n",
    "- For Loop: a programming language conditional iterative statement which is used to check for certain conditions and then repeatedly execute a block of code as long as those conditions are met.\n",
    "- While Loop: used to repeat a specific block of code an unknown number of times, until a condition is met.\n",
    "- List: a predefined list from which some statistical coded concepts take their values\n",
    "- Traversing Lists:  visiting each node of the list once in order to perform some operation on that.\n",
    "- List Operations: The different operations you can perform on a list such as addition. "
   ]
  },
  {
   "cell_type": "code",
   "execution_count": 12,
   "metadata": {},
   "outputs": [
    {
     "name": "stdout",
     "output_type": "stream",
     "text": [
      "Here is your burger\n",
      "Here is your burger\n",
      "Here is your burger\n"
     ]
    }
   ],
   "source": [
    "# Iteration Statment\n",
    "# While Loop\n",
    "Money = 30\n",
    "Burger = 0\n",
    "while Money >= 10:\n",
    "    print('Here is your burger')\n",
    "    Money = Money - 10\n",
    "    Burger = Burger + 1"
   ]
  },
  {
   "cell_type": "code",
   "execution_count": 17,
   "metadata": {},
   "outputs": [
    {
     "name": "stdout",
     "output_type": "stream",
     "text": [
      "1\n",
      "1\n",
      "1\n"
     ]
    }
   ],
   "source": [
    "## For Loop\n",
    "Food = ['Carrot', 'Broccli', 'Apple']\n",
    "OverallCost = 0\n",
    "for element in Food:\n",
    "    print(OverallCost + 1)"
   ]
  }
 ],
 "metadata": {
  "kernelspec": {
   "display_name": "Python 3.9.12 ('base')",
   "language": "python",
   "name": "python3"
  },
  "language_info": {
   "codemirror_mode": {
    "name": "ipython",
    "version": 3
   },
   "file_extension": ".py",
   "mimetype": "text/x-python",
   "name": "python",
   "nbconvert_exporter": "python",
   "pygments_lexer": "ipython3",
   "version": "3.9.12"
  },
  "orig_nbformat": 4,
  "vscode": {
   "interpreter": {
    "hash": "40d3a090f54c6569ab1632332b64b2c03c39dcf918b08424e98f38b5ae0af88f"
   }
  }
 },
 "nbformat": 4,
 "nbformat_minor": 2
}
