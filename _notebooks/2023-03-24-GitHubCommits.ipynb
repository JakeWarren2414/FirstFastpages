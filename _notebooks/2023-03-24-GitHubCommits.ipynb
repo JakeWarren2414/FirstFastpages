{
 "cells": [
  {
   "attachments": {},
   "cell_type": "markdown",
   "metadata": {},
   "source": [
    "# Github Commits\n",
    "- title: Github Commits\n",
    "- toc: true\n",
    "- layout: base\n",
    "- badges: true\n",
    "- categories: [. Practice]\n",
    "- description: This is my blog for the purposful Github commits I made since Ski Week"
   ]
  },
  {
   "attachments": {},
   "cell_type": "markdown",
   "metadata": {},
   "source": [
    "## Commits\n",
    "### Overall\n",
    "- Here are all of my overall statistics for commits\n",
    "![Commits](../images/Commits.png)\n",
    "\n",
    "![Commits](../images/CommitsJake.png)\n",
    "\n",
    "### Week 24\n",
    "![Commits](../images/Week24.png)\n",
    "\n",
    "- This week my commits were:\n",
    "    - To write my CPT writeup\n",
    "    - Night at the museum blog\n",
    "    - Touchups to project\n",
    "    - MCQ Test\n",
    "\n",
    "### Week 25\n",
    "![Commits](../images/Week25.png)\n",
    "\n",
    "- This week my commits were:\n",
    "    - MCQ Test 3\n",
    "    - Notes for 2.2 and 2.3 \n",
    "    - Hacks for 2.2 and 2.3\n",
    "\n",
    "### Week 26\n",
    "![Commits](../images/Week26.png)\n",
    "\n",
    "- This week my commits were:\n",
    "    - 2.4a and 2.4b Notes\n",
    "    - 2.4 Hacks\n",
    "    - Big Idea 2 Quiz\n",
    "\n",
    "### Week 27\n",
    "![Commits](../images/Week27.png)\n",
    "\n",
    "- This week my commits were:\n",
    "    - CPT Plans\n",
    "    - Space and Time Notes\n",
    "    - Space and Time Hacks\n",
    "    - Github commits\n",
    "    - Help with team blog\n",
    "    "
   ]
  }
 ],
 "metadata": {
  "language_info": {
   "name": "python"
  },
  "orig_nbformat": 4
 },
 "nbformat": 4,
 "nbformat_minor": 2
}
