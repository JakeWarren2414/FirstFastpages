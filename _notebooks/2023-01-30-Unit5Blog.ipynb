{
 "cells": [
  {
   "cell_type": "markdown",
   "metadata": {},
   "source": [
    "# 5.1, 5.2 Blog\n",
    "- title: 5.1, 5.2 Blog\n",
    "- toc: true\n",
    "- layout: base\n",
    "- badges: true\n",
    "- categories: [. Practice]\n",
    "- description: This is my blog on the harmful and beneficial effects of my project and digital divide. "
   ]
  },
  {
   "cell_type": "markdown",
   "metadata": {},
   "source": [
    "# Questions\n",
    "\n",
    "## Think of three beneficial effects of your projects based on 5.1 Unit\n",
    "\n",
    "- The first is making working out much more simple. Instead of the user researching about a million different foods and workouts, we ask them questions based on what their goals, plans, and body type are. Then we compile it into a small amount of digesable information they can easily use. \n",
    "- The second effect is helping them reach their goals and track their progress. Thanks to our presentations on Friday, Mr.Mort said we should add a goal system for amount of workouts completed. This helps the user stay on track. \n",
    "- The final effect of our website is to inform the user about gyms, tips, and more. We make sure they are not working out incorrectly. \n",
    "\n",
    "## Think of a potential harmful effect of your project.\n",
    "- A potential harmful effect of our website is that the user may not actually make much progress in the gym because they think \"the bulk of the work\" is done just by looking at the website. There isn't much motivation in our website just information\n",
    "- Do to this information people might see overwhelmed with all that they have to do and not even start going to the gym because it seems like too much. However, small steps are very important. \n",
    "\n",
    "## What are pros/cons on internet blockers at router and lack of admin password on lab machines at school?\n",
    "- One Pro of an internet blocker is to make sure that students stay on tasks at school. Blocking websites means that students are forced to do their work on their computer. However, holding a students hand throughout their life does not teach them much. When internet blockers are put on students don't learn how to make sorrect decisions. It is essentially the school making those decisions for them. The students don't learn how to browse the web responsibly. When they go home they won't have those blockers and they won't know how to control themselves The lack of a admin password allows students to access important information very easily which is a pro. However, a con is that anybody can access this information which can be bad. \n",
    "\n",
    "## What concerns do you have personally about the digital divide?  For yourself or for others.\n",
    "- One concern I have about the digital divide is the difference between people of different social classes. Some people may have lots of access to information whilst others may not. With this divide getting bigger these two groups may not be able to relate to each other. Communication may become difficult. People who are used to communicating through the internet may not know how to communicate in person whilst people who don't have tech may not know how to communicate through the internet. both are very important. Another issue about the side with technology is that they stay inside all day and do not enjoy life as much. Our generation has become addicted to our phones to the point where some people don't even know how to commuicate. It causes depression, anxiety, and much more issues. On the other hand the people without technology may have a hard time fitting in with society. Almost every job requires some sort of technology and if they do not have access to it they may not be able to find a job therefore making the gap even bigger. "
   ]
  },
  {
   "cell_type": "markdown",
   "metadata": {},
   "source": [
    "# Notes 5.3\n",
    "### What age groups use \"Facebook” vs “… TikTok”? What does the data say? Is there purposeful exclusion in these platforms? Is it harmful? Should it be corrected? Is it good business?\n",
    "- Use percentages for tiktok: Ages 10-19 – 32.5%, Ages 20-29 – 29.5%, Ages 30-39 – 16.4%, Ages 40-49 – 13.9%, 50+ – 7.1%\n",
    "- Use percentages for facebook: Ages 13-17 - 3.9%, Ages 18-24 - 18%, Ages 25-34 - 23.7%, Ages 35-44 - 18.1%, Ages 45-54 - 13.8%, Ages 55-64 - 11.2%, Ages 65+ - 11.2%.\n",
    "- Accourding to this data, Tik Tok has a much younger demographic and facebook has a much older. This is partly due to multipple reasons. Firslty Tik-Toks content is more directed towards children and Facebook is directed towards adults. Also, Facebook is much older so the people on it are older. I don't think this is harmful because it allows everyone to go to the platform they will enjoy the most. However, it may cause a divide in age demographics and their culture. We may not be able to relate to our parents as much. It is not neccesary to be corrected. It is good business because \n",
    "\n",
    "### Why do virtual assistants have female voices? Amazon, Alexa Google, Apple Siri. Was this purposeful? Is it harmful? Should it be corrected? Is it good business?\n",
    "- Female voices are much softer and soothing. This is good business because the user may feel safer and less stressed with this voice. This doesn't really have to be corrected because it is not harmful. People are able to turn to a male voice. Some would argue however that listening to a women as a virtual assistant woul change view points to seem them as such. \n",
    "### Talk about an algorithm that influences your decisions, think about these companies\n",
    "- A \"for you page\" or a \"feed page\" could influence our decisions. It collects data on which content you like to watch and recomends more of that content. It also gives you adds similar to the content. We will be more inclined to buy these items oppose to random ads. However, people may not be able to learn about other topics and it could divide groups. If you say you are a conservative, you will not see a liberal point of view and it could create a divide. Bias would be made. "
   ]
  },
  {
   "cell_type": "markdown",
   "metadata": {},
   "source": [
    "# Pair Hacks 5.3\n",
    "### Does the owner of the computer think this was intentional? If yes or no, justify you conclusion.\n",
    "- The owner does not think this is intentional. He is very light hearted about it and jokes about while still bringing attension to it. He says the computer is racist in a sarcastic tone. He knows that the technology was just not developed correctly. \n",
    "### How do you think this happened?\n",
    "- I think this happened because the facial recognition was only tested on white people. So when the computer tried to identify a black person, it couldn't because it was not developed as such. \n",
    "### Is this harmful? Was it intended to be harmful or exclude? Should it be corrected?\n",
    "- Yes this is harmful because it means a whole entire minority is not able to use a feature of this computer. It may hurt the business because blacks won't want to buy a \"racist computer.\" This was not intentional rather a mistake. This has to be corrected to allow these people to use the technology. \n",
    "### What would you or should you do to produce a better outcome?\n",
    "- To produce a better a better product I would make sure to test the product on on skin tones and then fix it for the blacks. I would also make sure that lighting and position of the face were a contorl group in the testing. \n",
    "\n",
    "## Summary \n",
    "- Overall I learned a lot from this unit. Firstly I learned that bias is a very prominate characteristic in all of us, intentional or not. Some people have racial bias against minorities and other have bias for things such as technology. Both of these are harmful but one is obviously more harmful than the other. However, a technology bias can still hurt. It could lead to irrational decisions that harms the person just because one of them inolves technology. This same theme is evident amongst many topics. As a society we have to learn to eliminate bias or at least reduce it. It could help with production, decisions making, etc. "
   ]
  },
  {
   "cell_type": "markdown",
   "metadata": {},
   "source": [
    "# 5.4 Crowdsourcing Hacks\n",
    "### CompSci has 150 ish principles students. Describe a crowdsource idea and how you might initiate it in our environment?\n",
    "- I could initiate a crowdsource idea in ou environment by maybe doing activities where one person from each group is put into a new group with prople of other groups and they all talk about improving each other projects. Every person has to give everyone else at least one idea. \n",
    "### What about Del Norte crowdsourcing? Could your project be better with crowdsourcing?\n",
    "- A crowdsource idea in our enviornment could actually be used with my project. My project is a fitness project. There are two other groups just in my class with fitness websites and probaly more in other classes. If we are able to reach out and share our ideas with each other, all of our projects will benefit. I learned from \"Teak Baddies\" project and a comment from Mr. Mortenson that we can add a goal system to my project. \n",
    "\n",
    "### What kind of data could you capture at N@tM to make evening interesting? Perhaps use this data to impress Teachers during finals week.\n",
    "- Some data I could collect during the N@tM is how much everybody likes our features. We could give them a survay to fill out to select what feature they like and what feature needs work or if they would even use the feature. We could also ask them new features they would like to see. With this we can optimize our website to fit the public demand. "
   ]
  },
  {
   "cell_type": "markdown",
   "metadata": {},
   "source": [
    "## 5.5\n",
    "### 1. When you create a GitHub repository it requests a license type. Review the license types in relationship to this Tech Talk and make some notes in your personal blog.\n",
    "- There are closed and open source licenses. Closed means not open to public and open are. \n",
    "- In closed you have to credit the original authors. \n",
    "- GPL is open and it deosn't allow closed versions of itself to be made\n",
    "- Both are great but have different uses\n",
    "- Can be helpful for sharing software. In Github we often reuse code such as themes so the license gives credit to it. Makes it free of charge for the user\n",
    "- There are many differetn types\n",
    "\n",
    "### 2. In your blog, summarize the discussions and personal analysis on Software Licenses/Options, Digital Rights, and other Legal and Ethical thoughts from this College Board topic.\n",
    "- Copyright can be dangerous. Many people use it for their own gain at expense of others. It takes other people work and doesn't give them credit meaning they lose money. \n",
    "- License helps keep copyright away by claiming a product. \n",
    "- We can use liscenses on Github to claim our own work. \n",
    "- It is not easy to detest if someone stole your liscense however. \n",
    "\n",
    "### 3. Make a license for your personal (blog) and Team repositories for the CPT project. Be sure to have a license for both Team GitHub repositories (frontend/backend). Document license(s) you picked and why. FYI, frontend, since it is built on GitHub pages may come with a license and restrictions. Document in blog how team made license choice and process of update.\n",
    "- https://github.com/JakeWarren2414/dolphins2/blob/gh-pages/LICENSE\n",
    "- We chose a GNU General Public License because of its accesibility and easiness to use\n",
    "- https://github.com/JakeWarren2414/FirstFastpages/blob/master/LICENSE\n",
    "- I am using the Apache license because of the easines to edit. I am not using trademark use so I don't need that. I am using private use and modicfication se so this license is perfect. There is a reason it is default. "
   ]
  },
  {
   "cell_type": "markdown",
   "metadata": {},
   "source": [
    "## 5.6 \n",
    "### 1. Describe PII you have seen on project in CompSci Principles.\n",
    "- I have seen people use usenames, emails, date of birth, and more in their projects. My project includes, username, BMI, calorie intake, sport, and workout routine. \n",
    "\n",
    "### 2. What are your feelings about PII and your personal exposure?\n",
    "- I feel like we should be more careful about PII. If we reveal too much information soemone could take our identity, attack us, or use that information for bad puroses. Of course things like name, country, and credit reports aren't too bad. However, once we give away more personal information such as drivers license number, SS number, and names of reletives it can be dangerous. \n",
    "\n",
    "### 3. Describe good and bad passwords? What is another step that is used to assist in authentication.\n",
    "- A good password would be a name of a pet followed by some number that is personal to you and only you know such as Sammy2414. A bad password would be one that is easily guessed such as 12345678, or one that has accesible information about you such as your instagram username. \n",
    "\n",
    "### 4. Try to describe Symmetric and Asymmetric encryption.\n",
    "- Symmetric encrption is where you only use one key like a password to detec some sort of information. Aysmmeric is where you use two, one public and one private like a username and password. \n",
    "\n",
    "### 5. Provide an example of encryption we used in AWS deployment.\n",
    "- We use the link of our website, the key of our website, and when we make a github page we have to enter a key. \n",
    "\n",
    "### 6. Describe a phishing scheme you have learned about the hard way. Describe some other phishing techniques.\n",
    "- A phishing scheme I have learned is people pretending to be some official such as a member of a credit card company to achieve sensetive information. I have also seen people send a link that when clicked gives information. Finally I have also seen people make websites that require inforation to sign up and it takes that information. "
   ]
  }
 ],
 "metadata": {
  "language_info": {
   "name": "python"
  },
  "orig_nbformat": 4
 },
 "nbformat": 4,
 "nbformat_minor": 2
}
