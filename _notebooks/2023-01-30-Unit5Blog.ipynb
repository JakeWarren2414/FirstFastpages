{
 "cells": [
  {
   "cell_type": "markdown",
   "metadata": {},
   "source": [
    "# 5.1, 5.2 Blog\n",
    "- title: 5.1, 5.2 Blog\n",
    "- toc: true\n",
    "- badges: true\n",
    "- categories: [. Practice]\n",
    "- description: This is my blog on the harmful and beneficial effects of my project and digital divide. "
   ]
  },
  {
   "cell_type": "markdown",
   "metadata": {},
   "source": [
    "# Questions\n",
    "\n",
    "## Think of three beneficial effects of your projects based on 5.1 Unit\n",
    "\n",
    "- The first is making working out much more simple. Instead of the user researching about a million different foods and workouts, we ask them questions based on what their goals, plans, and body type are. Then we compile it into a small amount of digesable information they can easily use. \n",
    "- The second effect is helping them reach their goals and track their progress. Thanks to our presentations on Friday, Mr.Mort said we should add a goal system for amount of workouts completed. This helps the user stay on track. \n",
    "- The final effect of our website is to inform the user about gyms, tips, and more. We make sure they are not working out incorrectly. \n",
    "\n",
    "## Think of a potential harmful effect of your project.\n",
    "- A potential harmful effect of our website is that the user may not actually make much progress in the gym because they think \"the bulk of the work\" is done just by looking at the website. There isn't much motivation in our website just information\n",
    "- Do to this information people might see overwhelmed with all that they have to do and not even start going to the gym because it seems like too much. However, small steps are very important. \n",
    "\n",
    "## What are pros/cons on internet blockers at router and lack of admin password on lab machines at school?\n",
    "- One Pro of an internet blocker is to make sure that students stay on tasks at school. Blocking websites means that students are forced to do their work on their computer. However, holding a students hand throughout their life does not teach them much. When internet blockers are put on students don't learn how to make sorrect decisions. It is essentially the school making those decisions for them. The students don't learn how to browse the web responsibly. When they go home they won't have those blockers and they won't know how to control themselves The lack of a admin password allows students to access important information very easily which is a pro. However, a con is that anybody can access this information which can be bad. \n",
    "\n",
    "## What concerns do you have personally about the digital divide?  For yourself or for others.\n",
    "- One concern I have about the digital divide is the difference between people of different social classes. Some people may have lots of access to information whilst others may not. With this divide getting bigger these two groups may not be able to relate to each other. Communication may become difficult. People who are used to communicating through the internet may not know how to communicate in person whilst people who don't have tech may not know how to communicate through the internet. both are very important. Another issue about the side with technology is that they stay inside all day and do not enjoy life as much. Our generation has become addicted to our phones to the point where some people don't even know how to commuicate. It causes depression, anxiety, and much more issues. On the other hand the people without technology may have a hard time fitting in with society. Almost every job requires some sort of technology and if they do not have access to it they may not be able to find a job therefore making the gap even bigger. "
   ]
  }
 ],
 "metadata": {
  "language_info": {
   "name": "python"
  },
  "orig_nbformat": 4
 },
 "nbformat": 4,
 "nbformat_minor": 2
}
