{
 "cells": [
  {
   "attachments": {},
   "cell_type": "markdown",
   "metadata": {},
   "source": [
    "# 2020 MCQ\n",
    "- title: 2020 MCQ\n",
    "- toc: true\n",
    "- layout: base\n",
    "- badges: true\n",
    "- categories: [. Practice]\n",
    "- description: This is my blog for the 2020  quiz"
   ]
  },
  {
   "attachments": {},
   "cell_type": "markdown",
   "metadata": {},
   "source": [
    "## Questions Missed"
   ]
  },
  {
   "attachments": {},
   "cell_type": "markdown",
   "metadata": {},
   "source": [
    "![Q16](../images/2020MCQ.png)\n",
    "\n",
    "1. I got question 4 wrong because I put D and the correct answer was C. I thought that the program could represent integers\n",
    "\n",
    "![Q16](../images/2020Q4.png)\n",
    "\n",
    "2. I got question 6 wrong because I put D and the correct answer was C. Both programs can move the robot to the square and I said neither. \n",
    "\n",
    "![Q16](../images/2020Q6.png)\n",
    "\n",
    "3. I got question 13 wrong because I put C and the answer was B. THe total number of books that were returend past their due date in a given year was correct. \n",
    "\n",
    "![Q16](../images/2020Q13.png)\n",
    "\n",
    "4. I got question 24 wrong because I put D instead of B. The correct answer was B because the sum of the even integers from 2 to 20.\n",
    "\n",
    "![Q16](../images/2020Q2.png)\n",
    "\n",
    "5. I got question 45 wrong I got question 45 wrong because I put D instead of C. The code does not have the or statement. \n",
    "\n",
    "![Q16](../images/2020Q45.png)\n",
    "\n",
    "6. I got question 50 wrong because I put B and it was D. The correct snser was that all of these algorithms could run it. \n",
    "\n",
    "![Q16](../images/2020Q50.png)\n",
    "\n",
    "7. I got question 55 wrong because I put C instead of A. It was the answer because they write their height at the bottom\n",
    "\n",
    "![Q16](../images/2020Q55.png)\n"
   ]
  }
 ],
 "metadata": {
  "language_info": {
   "name": "python"
  },
  "orig_nbformat": 4
 },
 "nbformat": 4,
 "nbformat_minor": 2
}
