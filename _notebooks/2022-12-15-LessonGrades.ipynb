{
 "cells": [
  {
   "cell_type": "markdown",
   "metadata": {},
   "source": [
    "# Lesson Grades\n",
    "- title: Lesson Grades\n",
    "- toc: true\n",
    "- badges: true\n",
    "- categories: [.tri 2 learning]\n",
    "- description: These are my grades for all the lessons. "
   ]
  },
  {
   "cell_type": "markdown",
   "metadata": {},
   "source": [
    "<table>\n",
    "    <tr>\n",
    "        <th></th>\n",
    "        <th>3.1-3.2</th>\n",
    "        <th>3.3-3.4</th>\n",
    "        <th>3.8 and 3.10</th>\n",
    "        <th>3.9 and 3.11</th>\n",
    "        <th>3.12-3.13</th>\n",
    "        <th>3.14-3.15</th>\n",
    "        <th>3.16</th>\n",
    "        <th>3.17-3.18</th>\n",
    "        <th>Total</th>\n",
    "        </tr>\n",
    "        <tr>\n",
    "            <td> 1/1</td>\n",
    "            <td> 0.95/1</td>\n",
    "            <td> 1.8/2</td>\n",
    "            <td> 0.95/1</td>\n",
    "            <td> 0.85/1</td>\n",
    "            <td> /1</td>\n",
    "            <td> /1</td>\n",
    "            <td> /1</td>\n",
    "            <td>/9</td>\n",
    "        </tr>\n",
    "        <tr>\n",
    "            <td>\n",
    "                <a href=\"https://liavb2.github.io/ominicient-lavebear/markdown/2022/12/01/LessonGrading.html\">Grade Page</a>\n",
    "            </td>\n",
    "            <td>\n",
    "                <a href=\"https://hsinaditam.github.io/Tea_Lounge/2022/12/05/Grading-Class.html\">Grade Page</a>\n",
    "            </td>\n",
    "            <td>\n",
    "                <a href=\"https://teamorborb.github.io/TeamOrbOrb/grades/hacks/2022/12/06/Hacks-Grades.html\">Grade Page</a>\n",
    "            </td>\n",
    "            <td>\n",
    "                <a href=\"https://docs.google.com/spreadsheets/d/1kEYHe8MNYwDukxreoWLVH0lTBwTB0MAO1LzpItTdNRM/edit#gid=0\">Grade Page</a>\n",
    "            </td>\n",
    "            <td>\n",
    "                <a href=\"https://davidvasilev1.github.io/group-tri2/2022/12/06/grades.html\">Grade Page</a>\n",
    "            </td>\n",
    "            <td>\n",
    "                <a href=\"\">Grade Page</a>\n",
    "            </td>\n",
    "            <td>\n",
    "                <a href=\"https://srihitakott1213.github.io/TeamBaddies/studentlesson/grades\">Grade Page</a>\n",
    "            </td>\n",
    "            <td>\n",
    "                <a href=\"\">Grade Page</a>\n",
    "            </td>\n",
    "        </tr>\n",
    "    </table>"
   ]
  }
 ],
 "metadata": {
  "kernelspec": {
   "display_name": "Python 3.9.12 ('base')",
   "language": "python",
   "name": "python3"
  },
  "language_info": {
   "name": "python",
   "version": "3.9.12"
  },
  "orig_nbformat": 4,
  "vscode": {
   "interpreter": {
    "hash": "40d3a090f54c6569ab1632332b64b2c03c39dcf918b08424e98f38b5ae0af88f"
   }
  }
 },
 "nbformat": 4,
 "nbformat_minor": 2
}
