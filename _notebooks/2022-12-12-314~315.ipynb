{
 "cells": [
  {
   "cell_type": "markdown",
   "metadata": {},
   "source": [
    "# 3.14/3.15- Libraries and Random Values\n",
    "- title: 3.14-3.15- Libraries and Random Values\n",
    "- toc: true\n",
    "- badges: true\n",
    "- categories: [.tri 2 learning]"
   ]
  },
  {
   "cell_type": "markdown",
   "metadata": {},
   "source": [
    "# Notes\n",
    "- A software library contains procedures that can be used in the creation of new programs.\n",
    "- Existing segments of code can come from internal or external sources, ie. libraries or previously written code.\n",
    "- The use of libraries simplifies the task of creating complex programs.\n",
    "- Application program interfaces (APIs) are specifications for how the procedures in a library behave and can be used.\n",
    "- Documentation for a library or API is necessary in understanding the key behaviors provided by the API/library and how to utilize them in your work.\n",
    "- A library is a collection of code from an external source that can be used to add functionality to a program.\n",
    "- Libraries are very useful, as they can be used to save time and effort in the development process.\n",
    "- Libraries are usually included in a program using a special keyword called \" .\" This keyword tells the program to look for the library and use its code.\n",
    "- Randomization generates a random value beteen two numbers\n",
    "\n"
   ]
  },
  {
   "cell_type": "markdown",
   "metadata": {},
   "source": [
    "# Hacks\n",
    "\n",
    "## Hacks 1\n",
    "1. "
   ]
  },
  {
   "cell_type": "code",
   "execution_count": 33,
   "metadata": {},
   "outputs": [
    {
     "name": "stdout",
     "output_type": "stream",
     "text": [
      "Contestant 2 vs contestant 7\n"
     ]
    }
   ],
   "source": [
    "import random \n",
    "\n",
    "contestant1 = random.randint(1,10)\n",
    "contestant2 = random.randint(1,10)\n",
    "print ('Contestant', contestant1, 'vs', 'contestant', contestant2)\n"
   ]
  },
  {
   "cell_type": "markdown",
   "metadata": {},
   "source": [
    "2. I imported the random library database. By using this I used the random int line of code to choose a bumber between 1 and 10. I then put these two equal to a different variable. Finally I made a print statement to make two random contestents of the ten to go agianst each other. This could be used for making a schedule for a sports league. "
   ]
  },
  {
   "cell_type": "markdown",
   "metadata": {},
   "source": [
    "## Hacks 2\n",
    "1. The inport random function imports the database from the random library. It allows us to use new lines of code such as \"rand.int\". Now we get to make a lot more lines fo code that have to do with randomization\n",
    "2. Some other things we can import other than random is math, turtles, flask, dictionary, and sqlalchemy. You can import many things. Different people have made these different libraries so the amount of things you can import is based on what other people have made. \n",
    "\n",
    "## Hack 3\n",
    "1. "
   ]
  },
  {
   "cell_type": "code",
   "execution_count": 123,
   "metadata": {},
   "outputs": [],
   "source": [
    "import random\n",
    "\n",
    "color = random.randint(1,8)\n",
    "\n",
    "if color == 1 | 2 | 3:\n",
    "    print('Green')\n",
    "elif color == 4 | 5:\n",
    "    print('Blue')\n",
    "elif color == 6:\n",
    "    print('Purple')\n",
    "elif color == 7:\n",
    "    print('Red')\n",
    "elif color == 8:\n",
    "    print('Orange')\n"
   ]
  },
  {
   "cell_type": "markdown",
   "metadata": {},
   "source": [
    "2. The numbers that are outputted for RANDOM(12,20) are 12, 13, 14, 15, 16, 17, 18, 19, and 20. No numbers are excluded"
   ]
  }
 ],
 "metadata": {
  "kernelspec": {
   "display_name": "Python 3.9.12 ('base')",
   "language": "python",
   "name": "python3"
  },
  "language_info": {
   "codemirror_mode": {
    "name": "ipython",
    "version": 3
   },
   "file_extension": ".py",
   "mimetype": "text/x-python",
   "name": "python",
   "nbconvert_exporter": "python",
   "pygments_lexer": "ipython3",
   "version": "3.9.12"
  },
  "orig_nbformat": 4,
  "vscode": {
   "interpreter": {
    "hash": "40d3a090f54c6569ab1632332b64b2c03c39dcf918b08424e98f38b5ae0af88f"
   }
  }
 },
 "nbformat": 4,
 "nbformat_minor": 2
}
