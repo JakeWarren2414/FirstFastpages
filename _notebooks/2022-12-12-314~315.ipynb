{
 "cells": [
  {
   "cell_type": "markdown",
   "metadata": {},
   "source": [
    "# 3.14/3.15- Libraries and Random Values\n",
    "- title: 3.14-3.15- Libraries and Random Values\n",
    "- toc: true\n",
    "- badges: true\n",
    "- categories: [.tri 2 learning]\n",
    "- description: We learn about the import function and why libraries are so benficial to lazy coders. "
   ]
  },
  {
   "cell_type": "markdown",
   "metadata": {},
   "source": [
    "# Notes\n",
    "- A software library contains procedures that can be used in the creation of new programs.\n",
    "- Existing segments of code can come from internal or external sources, ie. libraries or previously written code.\n",
    "- The use of libraries simplifies the task of creating complex programs.\n",
    "- Application program interfaces (APIs) are specifications for how the procedures in a library behave and can be used.\n",
    "- Documentation for a library or API is necessary in understanding the key behaviors provided by the API/library and how to utilize them in your work.\n",
    "- A library is a collection of code from an external source that can be used to add functionality to a program.\n",
    "- Libraries are very useful, as they can be used to save time and effort in the development process.\n",
    "- Libraries are usually included in a program using a special keyword called \" .\" This keyword tells the program to look for the library and use its code.\n",
    "- Randomization generates a random value beteen two numbers\n",
    "\n"
   ]
  },
  {
   "cell_type": "markdown",
   "metadata": {},
   "source": [
    "# Hacks\n",
    "\n",
    "## Hacks 1\n",
    "1. "
   ]
  },
  {
   "cell_type": "code",
   "execution_count": 33,
   "metadata": {},
   "outputs": [
    {
     "name": "stdout",
     "output_type": "stream",
     "text": [
      "Contestant 2 vs contestant 7\n"
     ]
    }
   ],
   "source": [
    "import random \n",
    "\n",
    "contestant1 = random.randint(1,10)\n",
    "contestant2 = random.randint(1,10)\n",
    "print ('Contestant', contestant1, 'vs', 'contestant', contestant2)\n"
   ]
  },
  {
   "cell_type": "markdown",
   "metadata": {},
   "source": [
    "2. I imported the random library database. By using this I used the random int line of code to choose a bumber between 1 and 10. I then put these two equal to a different variable. Finally I made a print statement to make two random contestents of the ten to go agianst each other. This could be used for making a schedule for a sports league. "
   ]
  },
  {
   "cell_type": "markdown",
   "metadata": {},
   "source": [
    "## Hacks 2\n",
    "1. The inport random function imports the database from the random library. It allows us to use new lines of code such as \"rand.int\". Now we get to make a lot more lines fo code that have to do with randomization\n",
    "2. Some other things we can import other than random is math, turtles, flask, dictionary, and sqlalchemy. You can import many things. Different people have made these different libraries so the amount of things you can import is based on what other people have made. \n",
    "\n",
    "## Hack 3\n",
    "1. "
   ]
  },
  {
   "cell_type": "code",
   "execution_count": 6,
   "metadata": {},
   "outputs": [
    {
     "name": "stdout",
     "output_type": "stream",
     "text": [
      "Orange\n"
     ]
    }
   ],
   "source": [
    "import random\n",
    "\n",
    "color = random.randint(1,8)\n",
    "\n",
    "if color == 1 | 2 | 3:\n",
    "    print('Green')\n",
    "elif color == 4 | 5:\n",
    "    print('Blue')\n",
    "elif color == 6:\n",
    "    print('Purple')\n",
    "elif color == 7:\n",
    "    print('Red')\n",
    "elif color == 8:\n",
    "    print('Orange')\n"
   ]
  },
  {
   "cell_type": "markdown",
   "metadata": {},
   "source": [
    "2. The numbers that are outputted for RANDOM(12,20) are 12, 13, 14, 15, 16, 17, 18, 19, and 20. No numbers are excluded"
   ]
  },
  {
   "cell_type": "markdown",
   "metadata": {},
   "source": [
    "# Vocab\n",
    "- Library: A library is an API that is imported from an external source. It is a compiled amount of code that all helps with a similar function. \n",
    "- Randomization: A type of decision making a program does that doesn't have a specific order to what is picked. \n",
    "- APIs: An API (Applicaion Programming Interface) is how different sites can share information. It recieves requests and sends responses between different servers, sites, etc. \n",
    "- Import: The import function is used to fetch a library and allow that library to be used in your block of code. \n"
   ]
  },
  {
   "cell_type": "code",
   "execution_count": 6,
   "metadata": {},
   "outputs": [
    {
     "name": "stdout",
     "output_type": "stream",
     "text": [
      "The sine of the angle is:  0.8660254037844386\n"
     ]
    }
   ],
   "source": [
    "# This piece of code finds the sine of the input. \n",
    "# It uses the library import math which gets more advanced math operations other than arithmetic\n",
    "# The import is an API\n",
    "import math\n",
    "\n",
    "angle = input(\"Enter an angle in degrees: \")\n",
    "angle = math.radians(int(angle))\n",
    "result = math.sin(angle)\n",
    "\n",
    "print(\"The sine of the angle is: \", result)"
   ]
  },
  {
   "cell_type": "code",
   "execution_count": 9,
   "metadata": {},
   "outputs": [
    {
     "name": "stdout",
     "output_type": "stream",
     "text": [
      "10\n"
     ]
    }
   ],
   "source": [
    "# This is a very simple piece of code that uses randomization to pick a number from one to ten \n",
    "import random\n",
    "\n",
    "number = random.randint(1,10)\n",
    "\n",
    "print(number)"
   ]
  }
 ],
 "metadata": {
  "kernelspec": {
   "display_name": "Python 3.9.12 ('base')",
   "language": "python",
   "name": "python3"
  },
  "language_info": {
   "codemirror_mode": {
    "name": "ipython",
    "version": 3
   },
   "file_extension": ".py",
   "mimetype": "text/x-python",
   "name": "python",
   "nbconvert_exporter": "python",
   "pygments_lexer": "ipython3",
   "version": "3.9.12"
  },
  "orig_nbformat": 4,
  "vscode": {
   "interpreter": {
    "hash": "40d3a090f54c6569ab1632332b64b2c03c39dcf918b08424e98f38b5ae0af88f"
   }
  }
 },
 "nbformat": 4,
 "nbformat_minor": 2
}
