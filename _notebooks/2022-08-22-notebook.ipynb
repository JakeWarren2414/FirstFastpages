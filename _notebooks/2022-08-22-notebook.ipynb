{
 "cells": [
  {
   "cell_type": "markdown",
   "metadata": {},
   "source": [
    "This the first notebook I made\n",
    "\n",
    "\n",
    "- toc: true\n",
    "- Badges: true\n",
    "- comments: True\n",
    "- author Jake Warren\n",
    "- Categories: [fastpages,juypter]"
   ]
  },
  {
   "cell_type": "markdown",
   "metadata": {},
   "source": []
  }
 ],
 "metadata": {
  "language_info": {
   "name": "python"
  },
  "orig_nbformat": 4
 },
 "nbformat": 4,
 "nbformat_minor": 2
}
