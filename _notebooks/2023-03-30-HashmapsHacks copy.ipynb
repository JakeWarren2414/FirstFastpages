{
 "cells": [
  {
   "attachments": {},
   "cell_type": "markdown",
   "metadata": {},
   "source": [
    "# Hashmaps Hacks \n",
    "- title: Hashmaps Hacks \n",
    "- toc: true\n",
    "- layout: base\n",
    "- badges: true\n",
    "- categories: [. Practice]\n",
    "- description: This is my blog for the hashmaps hacks "
   ]
  },
  {
   "cell_type": "markdown",
   "metadata": {},
   "source": []
  },
  {
   "attachments": {},
   "cell_type": "markdown",
   "metadata": {},
   "source": [
    "## Hacks\n",
    "\n",
    "- Answer *ALL* questions in the code segments\n",
    "- Create a venn diagram or other compare and contrast tool related to hashmaps.\n",
    "    - What are the pro and cons of using this data structure? \n",
    "    - Dictionary vs List    \n",
    "![Q16](../images/ListsVDicts.png)\n",
    "\n",
    "- Expand upon the code given to you, possible improvements in comments\n",
    "- Build your own album showing features of a python dictionary\n"
   ]
  },
  {
   "cell_type": "code",
   "execution_count": 95,
   "metadata": {},
   "outputs": [
    {
     "name": "stdout",
     "output_type": "stream",
     "text": [
      "{'title': 'Californication', 'artist': 'Red Hot Chilli Peppers', 'year': 1999, 'genre': ['Rock', 'Punk-rock', 'Alternative-rock', 'Funk Rock'], 'tracks': {1: 'Scar Tissue', 2: 'Savior', 3: 'Otherside', 4: 'Parallel Universe', 5: 'The Velvet Glove', 6: 'I Like Dirt', 7: 'Easily', 8: 'Emit Remmus', 9: \"Road Trippin'\", 10: 'Get on Top', 11: 'Californication', 12: 'Porcelain', 13: 'Right On Time', 14: 'Around the World', 15: 'Purple Stain'}}\n",
      "None\n"
     ]
    }
   ],
   "source": [
    "rhcp_albums = { \n",
    "    'californication': {\n",
    "        \"title\": \"Californication\",\n",
    "        \"artist\": \"Red Hot Chilli Peppers\",\n",
    "        \"year\": 1999,\n",
    "        \"genre\": [\"Rock\", \"Punk-rock\", \"Alternative-rock\", \"Funk Rock\"],\n",
    "        \"tracks\": {\n",
    "            1: \"Scar Tissue\",\n",
    "            2: \"Savior\",\n",
    "            3: \"Otherside\",\n",
    "            4: \"Parallel Universe\",\n",
    "            5: \"The Velvet Glove\",\n",
    "            6: \"I Like Dirt\",\n",
    "            7: \"Easily\",\n",
    "            8: \"Emit Remmus\",\n",
    "            9: \"Road Trippin'\",\n",
    "            10: \"Get on Top\",\n",
    "            11: \"Californication\",\n",
    "            12: \"Porcelain\",\n",
    "            13: \"Right On Time\",\n",
    "            14: \"Around the World\",\n",
    "            15: \"Purple Stain\"\n",
    "        }\n",
    "    },\n",
    "    'blood sugar sex magik': {\n",
    "        \"title\": \"Blood Sugar Sex Magik\",\n",
    "        \"artist\": \"Red Hot Chili Peppers\",\n",
    "        \"year\": 1991,\n",
    "        \"genre\": [\"Rock\", \"Funk\", \"Alternative-rock\"],\n",
    "        \"tracks\": {\n",
    "            1: \"The Power of Equality\",\n",
    "            2: \"If You Have to Ask\",\n",
    "            3: \"Breaking the Girl\",\n",
    "            4: \"Funky Monks\",\n",
    "            5: \"Suck My Kiss\",\n",
    "            6: \"I Could Have Lied\",\n",
    "            7: \"Mellowship Slinky in B Major\",\n",
    "            8: \"The Righteous & The Wicked\",\n",
    "            9: \"Give It Away\",\n",
    "            10: \"Blood Sugar Sex Magik\",\n",
    "            11: \"Under the Bridge\",\n",
    "            12: \"Naked in the Rain\",\n",
    "            13: \"Apache Rose Peacock\",\n",
    "            14: \"The Greeting Song\",\n",
    "            15: \"My Lovely Man\",\n",
    "            16: \"Sir Psycho Sexy\",\n",
    "            17: \"They're Red Hot\"\n",
    "    }\n",
    "    }\n",
    "}\n",
    "\n",
    "print(rhcp_albums.get('californication'))\n",
    "print(rhcp_albums.get('Blood Sugar Sex Magik'))\n",
    "\n"
   ]
  },
  {
   "cell_type": "code",
   "execution_count": 70,
   "metadata": {},
   "outputs": [
    {
     "name": "stdout",
     "output_type": "stream",
     "text": [
      "{1: 'Scar Tissue', 2: 'Savior', 3: 'Otherside', 4: 'Parallel Universe', 5: 'The Velvet Glove', 6: 'I Like Dirt', 7: 'Easily', 8: 'Emit Remmus', 9: \"Road Trippin'\", 10: 'Get on Top', 11: 'Californication', 12: 'Porcelain', 13: 'Right On Time', 14: 'Around the World', 15: 'Purple Stain'}\n",
      "{1: 'Scar Tissue', 2: 'Savior', 3: 'Otherside', 4: 'Parallel Universe', 5: 'The Velvet Glove', 6: 'I Like Dirt', 7: 'Easily', 8: 'Emit Remmus', 9: \"Road Trippin'\", 10: 'Get on Top', 11: 'Californication', 12: 'Porcelain', 13: 'Right On Time', 14: 'Around the World', 15: 'Purple Stain'}\n"
     ]
    }
   ],
   "source": [
    "print(rhcp_albums.get('californication')['tracks'])\n",
    "# or\n",
    "print(rhcp_albums['californication']['tracks'])"
   ]
  },
  {
   "cell_type": "code",
   "execution_count": 71,
   "metadata": {},
   "outputs": [
    {
     "name": "stdout",
     "output_type": "stream",
     "text": [
      "Easily\n",
      "Scar Tissue\n"
     ]
    }
   ],
   "source": [
    "# Retrieve value from a dictionary inside a dictionary\n",
    "print(rhcp_albums.get('californication')['tracks'][7])\n",
    "# or\n",
    "print(rhcp_albums['californication']['tracks'][1])"
   ]
  },
  {
   "cell_type": "code",
   "execution_count": 72,
   "metadata": {},
   "outputs": [
    {
     "name": "stdout",
     "output_type": "stream",
     "text": [
      "{'californication': {'title': 'Californication', 'artist': 'Red Hot Chilli Peppers', 'year': 1999, 'genre': ['Rock', 'Punk-rock', 'Alternative-rock', 'Funk Rock'], 'tracks': {1: 'Scar Tissue', 2: 'Savior', 3: 'Otherside', 4: 'Parallel Universe', 5: 'The Velvet Glove', 6: 'I Like Dirt', 7: 'Easily', 8: 'Emit Remmus', 9: \"Road Trippin'\", 10: 'Get on Top', 11: 'Californication', 12: 'Porcelain', 13: 'Right On Time', 14: 'Around the World', 15: 'Purple Stain'}}, 'Blood Sugar Sex Magik': {'title': 'Blood Sugar Sex Magik', 'artist': 'Red Hot Chili Peppers', 'year': 1991, 'genre': ['Rock', 'Funk', 'Alternative-rock'], 'tracks': {1: 'The Power of Equality', 2: 'If You Have to Ask', 3: 'Breaking the Girl', 4: 'Funky Monks', 5: 'Suck My Kiss', 6: 'I Could Have Lied', 7: 'Mellowship Slinky in B Major', 8: 'The Righteous & The Wicked', 9: 'Give It Away', 10: 'Blood Sugar Sex Magik', 11: 'Under the Bridge', 12: 'Naked in the Rain', 13: 'Apache Rose Peacock', 14: 'The Greeting Song', 15: 'My Lovely Man', 16: 'Sir Psycho Sexy', 17: \"They're Red Hot\"}}, 'members': ['Anothony Kiedis', 'Flea', 'John Frusciante', 'FleaChad Smith', 'Dave Navarro']}\n"
     ]
    }
   ],
   "source": [
    "# adding a value with a new key\n",
    "rhcp_albums[\"members\"] = ['Anothony Kiedis', 'Flea', 'John Frusciante', 'Flea' 'Chad Smith', 'Dave Navarro']\n",
    "# What can you change to make sure there are no duplicate producers?\n",
    "# We can add a set or make this list into a set so it won't duplicate\n",
    "#\n",
    "\n",
    "# Printing the dictionary\n",
    "print(rhcp_albums)"
   ]
  },
  {
   "cell_type": "code",
   "execution_count": 80,
   "metadata": {},
   "outputs": [
    {
     "name": "stdout",
     "output_type": "stream",
     "text": [
      "{'californication': {'title': 'Californication', 'artist': 'Red Hot Chilli Peppers', 'year': 1999, 'genre': ['Rock', 'Punk-rock', 'Alternative-rock', 'Funk Rock'], 'tracks': {1: 'Scar Tissue', 2: 'Savior', 3: 'Otherside', 4: 'Parallel Universe', 5: 'The Velvet Glove', 6: 'I Like Dirt', 7: 'Easily', 8: 'Emit Remmus', 9: \"Road Trippin'\", 10: 'Get on Top', 11: 'Californication', 12: 'Porcelain', 13: 'Right On Time', 14: 'Around the World', 15: 'Purple Stain'}}, 'Blood Sugar Sex Magik': {'title': 'Blood Sugar Sex Magik', 'artist': 'Red Hot Chili Peppers', 'year': 1991, 'genre': ['Rock', 'Funk', 'Alternative-rock'], 'tracks': {1: 'The Power of Equality', 2: 'If You Have to Ask', 3: 'Breaking the Girl', 4: 'Funky Monks', 5: 'Suck My Kiss', 6: 'I Could Have Lied', 7: 'Mellowship Slinky in B Major', 8: 'The Righteous & The Wicked', 9: 'Give It Away', 10: 'Blood Sugar Sex Magik', 11: 'Under the Bridge', 12: 'Naked in the Rain', 13: 'Apache Rose Peacock', 14: 'The Greeting Song', 15: 'My Lovely Man', 16: 'Sir Psycho Sexy', 17: \"They're Red Hot\"}}, 'members': {'Flea', 'Chad Smith', 'John Frusciante', 'Anothony Kiedis', 'Dave Navarro'}}\n"
     ]
    }
   ],
   "source": [
    "rhcp_albums[\"members\"] = set(['Anothony Kiedis', 'Flea', 'John Frusciante', 'Flea', 'Chad Smith', 'Dave Navarro'])\n",
    "\n",
    "print(rhcp_albums)"
   ]
  },
  {
   "cell_type": "code",
   "execution_count": 77,
   "metadata": {},
   "outputs": [
    {
     "name": "stdout",
     "output_type": "stream",
     "text": [
      "{'californication': {'title': 'Californication', 'artist': 'Red Hot Chilli Peppers', 'year': 1999, 'genre': ['Rock', 'Punk-rock', 'Alternative-rock', 'Funk Rock'], 'tracks': {1: 'Scar Tissue', 2: 'Savior', 3: 'Otherside', 4: 'Parallel Universe', 5: 'The Velvet Glove', 6: 'I Like Dirt', 7: 'Easily', 8: 'Emit Remmus', 9: \"Road Trippin'\", 10: 'Get on Top', 11: 'Californication', 12: 'Porcelain', 13: 'Right On Time', 14: 'Around the World', 15: 'Purple Stain', 16: 'New Track'}}, 'Blood Sugar Sex Magik': {'title': 'Blood Sugar Sex Magik', 'artist': 'Red Hot Chili Peppers', 'year': 1991, 'genre': ['Rock', 'Funk', 'Alternative-rock'], 'tracks': {1: 'The Power of Equality', 2: 'If You Have to Ask', 3: 'Breaking the Girl', 4: 'Funky Monks', 5: 'Suck My Kiss', 6: 'I Could Have Lied', 7: 'Mellowship Slinky in B Major', 8: 'The Righteous & The Wicked', 9: 'Give It Away', 10: 'Blood Sugar Sex Magik', 11: 'Under the Bridge', 12: 'Naked in the Rain', 13: 'Apache Rose Peacock', 14: 'The Greeting Song', 15: 'My Lovely Man', 16: 'Sir Psycho Sexy', 17: \"They're Red Hot\"}}}\n"
     ]
    }
   ],
   "source": [
    "\n",
    "rhcp_albums['californication'][\"tracks\"].update({16: \"New Track\"})\n",
    "\n",
    "\n",
    "print(rhcp_albums)"
   ]
  },
  {
   "cell_type": "code",
   "execution_count": 52,
   "metadata": {},
   "outputs": [
    {
     "name": "stdout",
     "output_type": "stream",
     "text": [
      "californication: {'title': 'Californication', 'artist': 'Red Hot Chilli Peppers', 'year': 1999, 'genre': ['Rock', 'Punk-rock', 'Alternative-rock', 'Funk Rock'], 'tracks': {1: 'Scar Tissue', 2: 'Savior', 3: 'Otherside', 4: 'Parallel Universe', 5: 'The Velvet Glove', 6: 'I Like Dirt', 7: 'Easily', 8: 'Emit Remmus', 9: \"Road Trippin'\", 10: 'Get on Top', 11: 'Californication', 12: 'Porcelain', 13: 'Right On Time', 14: 'Around the World', 15: 'Purple Stain', 16: 'Under The Bridge'}}\n"
     ]
    }
   ],
   "source": [
    "for k,v in rhcp_albums.items(): # iterate using a for loop for key and value\n",
    "    print(str(k) + \": \" + str(v))\n"
   ]
  },
  {
   "cell_type": "code",
   "execution_count": 84,
   "metadata": {},
   "outputs": [
    {
     "name": "stdout",
     "output_type": "stream",
     "text": [
      "{'title': 'Blood Sugar Sex Magik', 'artist': 'Red Hot Chili Peppers', 'year': 1991, 'genre': ['Rock', 'Funk', 'Alternative-rock'], 'tracks': {1: 'The Power of Equality', 2: 'If You Have to Ask', 3: 'Breaking the Girl', 4: 'Funky Monks', 5: 'Suck My Kiss', 6: 'I Could Have Lied', 7: 'Mellowship Slinky in B Major', 8: 'The Righteous & The Wicked', 9: 'Give It Away', 10: 'Blood Sugar Sex Magik', 11: 'Under the Bridge', 12: 'Naked in the Rain', 13: 'Apache Rose Peacock', 14: 'The Greeting Song', 15: 'My Lovely Man', 16: 'Sir Psycho Sexy', 17: \"They're Red Hot\"}}\n"
     ]
    }
   ],
   "source": [
    "def search():\n",
    "    search = input(\"Which Album would you like to know about?\")\n",
    "    if rhcp_albums.get(search.lower()) == None:\n",
    "        print(\"Invalid Search\")\n",
    "    else:\n",
    "        print(rhcp_albums.get(search.lower()))\n",
    "\n",
    "search()\n"
   ]
  },
  {
   "cell_type": "code",
   "execution_count": 92,
   "metadata": {},
   "outputs": [
    {
     "name": "stdout",
     "output_type": "stream",
     "text": [
      "Rick Rubin\n"
     ]
    }
   ],
   "source": [
    "for album in rhcp_albums.values():\n",
    "    album[\"producer\"] = \"Rick Rubin\"\n",
    "\n",
    "print(rhcp_albums['californication']['producer'])\n",
    "   "
   ]
  },
  {
   "cell_type": "code",
   "execution_count": 98,
   "metadata": {},
   "outputs": [
    {
     "data": {
      "text/plain": [
       "['Californication']"
      ]
     },
     "execution_count": 98,
     "metadata": {},
     "output_type": "execute_result"
    }
   ],
   "source": [
    "def get_albums_after_year(album_dict, year):\n",
    "    \"\"\"Return a list of album titles released after the given year.\"\"\"\n",
    "    albums_after_year = []\n",
    "    for album in album_dict.values():\n",
    "        if album['year'] > year:\n",
    "            albums_after_year.append(album['title'])\n",
    "    return albums_after_year\n",
    "\n",
    "get_albums_after_year(rhcp_albums, 1998)\n",
    "['Californication']"
   ]
  },
  {
   "attachments": {},
   "cell_type": "markdown",
   "metadata": {},
   "source": [
    "\n",
    "- For Mr. Yeung's class: Justify your favorite Taylor Swift song, answer may effect seed\n",
    "    - You Belong With Me\n"
   ]
  }
 ],
 "metadata": {
  "kernelspec": {
   "display_name": "base",
   "language": "python",
   "name": "python3"
  },
  "language_info": {
   "codemirror_mode": {
    "name": "ipython",
    "version": 3
   },
   "file_extension": ".py",
   "mimetype": "text/x-python",
   "name": "python",
   "nbconvert_exporter": "python",
   "pygments_lexer": "ipython3",
   "version": "3.9.12"
  },
  "orig_nbformat": 4
 },
 "nbformat": 4,
 "nbformat_minor": 2
}
